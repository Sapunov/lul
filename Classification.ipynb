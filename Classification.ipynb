{
 "cells": [
  {
   "cell_type": "code",
   "execution_count": 100,
   "metadata": {},
   "outputs": [],
   "source": [
    "import pandas as pd\n",
    "import sklearn\n",
    "import re\n",
    "import numpy as np\n",
    "import string as string_lib\n",
    "\n",
    "from nltk.tokenize import word_tokenize\n",
    "from nltk.corpus import stopwords\n",
    "from nltk.stem import SnowballStemmer\n",
    "from pymorphy2 import MorphAnalyzer\n",
    "\n",
    "from sklearn.feature_extraction.text import TfidfTransformer\n",
    "from sklearn.feature_extraction.text import CountVectorizer\n",
    "\n",
    "from sklearn.naive_bayes import MultinomialNB\n",
    "\n",
    "# from catboost import CatBoostClassifier"
   ]
  },
  {
   "cell_type": "code",
   "execution_count": 6,
   "metadata": {
    "collapsed": true
   },
   "outputs": [],
   "source": [
    "morph = MorphAnalyzer()"
   ]
  },
  {
   "cell_type": "code",
   "execution_count": 78,
   "metadata": {
    "collapsed": true
   },
   "outputs": [],
   "source": [
    "data = pd.read_csv(\"./messages/30_09_2017_19_37.csv\", delimiter=\";\")"
   ]
  },
  {
   "cell_type": "code",
   "execution_count": 29,
   "metadata": {
    "collapsed": true
   },
   "outputs": [],
   "source": [
    "stemmer = SnowballStemmer(\"russian\")\n",
    "\n",
    "def stem(string):\n",
    "    \n",
    "    tokens = [stemmer.stem(token) for token in word_tokenize(string)]\n",
    "\n",
    "    return \" \".join(tokens)"
   ]
  },
  {
   "cell_type": "code",
   "execution_count": 30,
   "metadata": {
    "collapsed": true
   },
   "outputs": [],
   "source": [
    "def first_form(string):\n",
    "    \n",
    "    tokens = word_tokenize(string)\n",
    "    \n",
    "    for i in range(len(tokens)):\n",
    "        if tokens[i] != \"NUM\":\n",
    "            parse = morph.parse(tokens[i])\n",
    "            tokens[i] = parse[0].normal_form\n",
    "    \n",
    "    return \" \".join(tokens)"
   ]
  },
  {
   "cell_type": "code",
   "execution_count": 31,
   "metadata": {
    "collapsed": true
   },
   "outputs": [],
   "source": [
    "synonyms = {\n",
    "        \"зарплата\": [\"зп\"],\n",
    "        \"электричка\": [\"элка\"]\n",
    "    }\n",
    "\n",
    "replace_map = {}\n",
    "\n",
    "for key, value in synonyms.items():\n",
    "    for syn in value:\n",
    "        replace_map[first_form(syn)] = first_form(key)\n",
    "\n",
    "def replace_synonyms(string):\n",
    "    \n",
    "    tokens = word_tokenize(string)\n",
    "    \n",
    "    for i in range(len(tokens)):\n",
    "        tokens[i] = replace_map.get(tokens[i], tokens[i])\n",
    "    \n",
    "    \n",
    "    return \" \".join(tokens)"
   ]
  },
  {
   "cell_type": "code",
   "execution_count": 108,
   "metadata": {
    "collapsed": true
   },
   "outputs": [],
   "source": [
    "def replace_numbers(string, replace_on=\"NUM\"):\n",
    "    \n",
    "    return re.sub(r\"([0-9]+)(\\.[0-9]+)?\", replace_on, string)"
   ]
  },
  {
   "cell_type": "code",
   "execution_count": 33,
   "metadata": {
    "collapsed": true
   },
   "outputs": [],
   "source": [
    "def replace_letterdigits(string):\n",
    "    \n",
    "    tokens = word_tokenize(string)\n",
    "    \n",
    "    for i in range(len(tokens)):\n",
    "        match = re.match(r\"^(([0-9]+)(\\.[0-9]+)?)(k|к)$\", tokens[i], re.UNICODE)\n",
    "        \n",
    "        if match:\n",
    "            tokens[i] = str(int(float(match.group(1)) * 1000))\n",
    "    \n",
    "    return \" \".join(tokens)"
   ]
  },
  {
   "cell_type": "code",
   "execution_count": 34,
   "metadata": {
    "collapsed": true
   },
   "outputs": [],
   "source": [
    "russian_stopwords = stopwords.words(\"russian\")\n",
    "\n",
    "def delete_stopwords(string):\n",
    "    \n",
    "    tokens = word_tokenize(string)\n",
    "    \n",
    "    for token in tokens:\n",
    "        if token in russian_stopwords:\n",
    "            tokens.remove(token)\n",
    "    \n",
    "    return \" \".join(tokens)"
   ]
  },
  {
   "cell_type": "code",
   "execution_count": 35,
   "metadata": {
    "collapsed": true
   },
   "outputs": [],
   "source": [
    "def print_conf_matrix(y_test, y_predicted, categories):\n",
    "    \n",
    "    ma = sklearn.metrics.confusion_matrix(y_test, y_predicted).astype(str)\n",
    "    ma = np.insert(ma, 0, categories, axis=1)\n",
    "    ma = np.insert(ma, 0, [\"\"] + categories, axis=0)\n",
    "    \n",
    "    for row in range(ma.shape[0]):\n",
    "        for col in range(ma.shape[1]):\n",
    "            if col != row and ma[row, col] != \"0\" and col > 0 and row > 0:\n",
    "                print(\"{0:<10}\".format(\"<\" + ma[row, col] + \">\"), end=\"\")\n",
    "            else:\n",
    "                print(\"{0:<10}\".format(ma[row, col]), end=\"\")\n",
    "        print()"
   ]
  },
  {
   "cell_type": "code",
   "execution_count": 36,
   "metadata": {
    "collapsed": true
   },
   "outputs": [],
   "source": [
    "def print_scores(y_test, y_predicted, categories):\n",
    "    \n",
    "    print(\"Accuracy: {0}\".format(sklearn.metrics.accuracy_score(y_test, y_predicted)), end=\"\\n\\n\")\n",
    "    \n",
    "    print(\" \" * 15, end=\"\")\n",
    "    for cat in categories:\n",
    "        print(\"{0:<10}\".format(cat), end=\"\")\n",
    "    \n",
    "    print(\"\\nPrecision:     \", end=\"\")\n",
    "    for digit in sklearn.metrics.precision_score(y_test, y_predicted, average=None):\n",
    "        print(\"{0:<10}\".format(round(digit, 3)), end=\"\")\n",
    "    \n",
    "    print(\"\\nRecall:        \", end=\"\")\n",
    "    for digit in sklearn.metrics.recall_score(y_test, y_predicted, average=None):\n",
    "        print(\"{0:<10}\".format(round(digit, 3)), end=\"\")\n",
    "        \n",
    "    print(\"\\nF1:            \", end=\"\")\n",
    "    for digit in sklearn.metrics.f1_score(y_test, y_predicted, average=None):\n",
    "        print(\"{0:<10}\".format(round(digit, 3)), end=\"\")"
   ]
  },
  {
   "cell_type": "code",
   "execution_count": 109,
   "metadata": {
    "collapsed": true
   },
   "outputs": [],
   "source": [
    "translate_table = dict((ord(char), None) for char in string_lib.punctuation)"
   ]
  },
  {
   "cell_type": "code",
   "execution_count": 110,
   "metadata": {},
   "outputs": [],
   "source": [
    "data.loc[:, \"message\"] = data[\"message\"].apply(str.lower).apply(replace_letterdigits)\n",
    "data.loc[:, \"message\"] = data[\"message\"].apply(lambda s: s.translate(translate_table))"
   ]
  },
  {
   "cell_type": "code",
   "execution_count": 111,
   "metadata": {
    "collapsed": true
   },
   "outputs": [],
   "source": [
    "data[\"message_no_num\"] = data[\"message\"].apply(replace_numbers)"
   ]
  },
  {
   "cell_type": "code",
   "execution_count": 112,
   "metadata": {
    "collapsed": true
   },
   "outputs": [],
   "source": [
    "data[\"message_no_stopwords\"] = data[\"message_no_num\"].apply(delete_stopwords)"
   ]
  },
  {
   "cell_type": "code",
   "execution_count": 113,
   "metadata": {},
   "outputs": [],
   "source": [
    "data[\"message_first_form\"] = data[\"message_no_stopwords\"].apply(first_form)"
   ]
  },
  {
   "cell_type": "code",
   "execution_count": 41,
   "metadata": {
    "collapsed": true
   },
   "outputs": [],
   "source": [
    "# data[\"message_stem\"] = data[\"message_no_stopwords\"].apply(stem)"
   ]
  },
  {
   "cell_type": "code",
   "execution_count": 114,
   "metadata": {
    "collapsed": true
   },
   "outputs": [],
   "source": [
    "data[\"message_synonyms\"] = data[\"message_first_form\"].apply(replace_synonyms)"
   ]
  },
  {
   "cell_type": "code",
   "execution_count": 115,
   "metadata": {},
   "outputs": [
    {
     "name": "stdout",
     "output_type": "stream",
     "text": [
      "(266, 6)\n"
     ]
    },
    {
     "data": {
      "text/html": [
       "<div>\n",
       "<style>\n",
       "    .dataframe thead tr:only-child th {\n",
       "        text-align: right;\n",
       "    }\n",
       "\n",
       "    .dataframe thead th {\n",
       "        text-align: left;\n",
       "    }\n",
       "\n",
       "    .dataframe tbody tr th {\n",
       "        vertical-align: top;\n",
       "    }\n",
       "</style>\n",
       "<table border=\"1\" class=\"dataframe\">\n",
       "  <thead>\n",
       "    <tr style=\"text-align: right;\">\n",
       "      <th></th>\n",
       "      <th>message</th>\n",
       "      <th>category</th>\n",
       "      <th>message_no_num</th>\n",
       "      <th>message_no_stopwords</th>\n",
       "      <th>message_first_form</th>\n",
       "      <th>message_synonyms</th>\n",
       "    </tr>\n",
       "  </thead>\n",
       "  <tbody>\n",
       "    <tr>\n",
       "      <th>0</th>\n",
       "      <td>23800 доплаты за отпуска в крок</td>\n",
       "      <td>income</td>\n",
       "      <td>NUM доплаты за отпуска в крок</td>\n",
       "      <td>NUM доплаты отпуска крок</td>\n",
       "      <td>NUM доплата отпуск крок</td>\n",
       "      <td>NUM доплата отпуск крок</td>\n",
       "    </tr>\n",
       "    <tr>\n",
       "      <th>1</th>\n",
       "      <td>5478252 зарплата</td>\n",
       "      <td>income</td>\n",
       "      <td>NUM зарплата</td>\n",
       "      <td>NUM зарплата</td>\n",
       "      <td>NUM зарплата</td>\n",
       "      <td>NUM зарплата</td>\n",
       "    </tr>\n",
       "    <tr>\n",
       "      <th>2</th>\n",
       "      <td>60865 зарплата</td>\n",
       "      <td>income</td>\n",
       "      <td>NUM зарплата</td>\n",
       "      <td>NUM зарплата</td>\n",
       "      <td>NUM зарплата</td>\n",
       "      <td>NUM зарплата</td>\n",
       "    </tr>\n",
       "    <tr>\n",
       "      <th>3</th>\n",
       "      <td>1500 кошулька дала немного денег</td>\n",
       "      <td>income</td>\n",
       "      <td>NUM кошулька дала немного денег</td>\n",
       "      <td>NUM кошулька дала немного денег</td>\n",
       "      <td>NUM кошулька дать немного деньга</td>\n",
       "      <td>NUM кошулька дать немного деньга</td>\n",
       "    </tr>\n",
       "    <tr>\n",
       "      <th>4</th>\n",
       "      <td>зп 36000</td>\n",
       "      <td>income</td>\n",
       "      <td>зп NUM</td>\n",
       "      <td>зп NUM</td>\n",
       "      <td>зп NUM</td>\n",
       "      <td>зарплата NUM</td>\n",
       "    </tr>\n",
       "    <tr>\n",
       "      <th>5</th>\n",
       "      <td>9 сентября олег дал 30000</td>\n",
       "      <td>income</td>\n",
       "      <td>NUM сентября олег дал NUM</td>\n",
       "      <td>NUM сентября олег дал NUM</td>\n",
       "      <td>NUM сентябрь олег дать NUM</td>\n",
       "      <td>NUM сентябрь олег дать NUM</td>\n",
       "    </tr>\n",
       "    <tr>\n",
       "      <th>6</th>\n",
       "      <td>ещё зп 4000</td>\n",
       "      <td>income</td>\n",
       "      <td>ещё зп NUM</td>\n",
       "      <td>ещё зп NUM</td>\n",
       "      <td>ещё зп NUM</td>\n",
       "      <td>ещё зарплата NUM</td>\n",
       "    </tr>\n",
       "    <tr>\n",
       "      <th>7</th>\n",
       "      <td>вчера ходил в бассейн проплыл 600 метров</td>\n",
       "      <td>other</td>\n",
       "      <td>вчера ходил в бассейн проплыл NUM метров</td>\n",
       "      <td>вчера ходил бассейн проплыл NUM метров</td>\n",
       "      <td>вчера ходить бассейн проплыть NUM метр</td>\n",
       "      <td>вчера ходить бассейн проплыть NUM метр</td>\n",
       "    </tr>\n",
       "    <tr>\n",
       "      <th>8</th>\n",
       "      <td>вес вчера 747</td>\n",
       "      <td>weight</td>\n",
       "      <td>вес вчера NUM</td>\n",
       "      <td>вес вчера NUM</td>\n",
       "      <td>вес вчера NUM</td>\n",
       "      <td>вес вчера NUM</td>\n",
       "    </tr>\n",
       "    <tr>\n",
       "      <th>9</th>\n",
       "      <td>сегодня читаю три товарища</td>\n",
       "      <td>event</td>\n",
       "      <td>сегодня читаю три товарища</td>\n",
       "      <td>сегодня читаю товарища</td>\n",
       "      <td>сегодня читать товарищ</td>\n",
       "      <td>сегодня читать товарищ</td>\n",
       "    </tr>\n",
       "  </tbody>\n",
       "</table>\n",
       "</div>"
      ],
      "text/plain": [
       "                                    message category  \\\n",
       "0           23800 доплаты за отпуска в крок   income   \n",
       "1                          5478252 зарплата   income   \n",
       "2                            60865 зарплата   income   \n",
       "3          1500 кошулька дала немного денег   income   \n",
       "4                                  зп 36000   income   \n",
       "5                 9 сентября олег дал 30000   income   \n",
       "6                               ещё зп 4000   income   \n",
       "7  вчера ходил в бассейн проплыл 600 метров    other   \n",
       "8                             вес вчера 747   weight   \n",
       "9                сегодня читаю три товарища    event   \n",
       "\n",
       "                             message_no_num  \\\n",
       "0             NUM доплаты за отпуска в крок   \n",
       "1                              NUM зарплата   \n",
       "2                              NUM зарплата   \n",
       "3           NUM кошулька дала немного денег   \n",
       "4                                    зп NUM   \n",
       "5                 NUM сентября олег дал NUM   \n",
       "6                                ещё зп NUM   \n",
       "7  вчера ходил в бассейн проплыл NUM метров   \n",
       "8                             вес вчера NUM   \n",
       "9                сегодня читаю три товарища   \n",
       "\n",
       "                     message_no_stopwords  \\\n",
       "0                NUM доплаты отпуска крок   \n",
       "1                            NUM зарплата   \n",
       "2                            NUM зарплата   \n",
       "3         NUM кошулька дала немного денег   \n",
       "4                                  зп NUM   \n",
       "5               NUM сентября олег дал NUM   \n",
       "6                              ещё зп NUM   \n",
       "7  вчера ходил бассейн проплыл NUM метров   \n",
       "8                           вес вчера NUM   \n",
       "9                  сегодня читаю товарища   \n",
       "\n",
       "                       message_first_form  \\\n",
       "0                 NUM доплата отпуск крок   \n",
       "1                            NUM зарплата   \n",
       "2                            NUM зарплата   \n",
       "3        NUM кошулька дать немного деньга   \n",
       "4                                  зп NUM   \n",
       "5              NUM сентябрь олег дать NUM   \n",
       "6                              ещё зп NUM   \n",
       "7  вчера ходить бассейн проплыть NUM метр   \n",
       "8                           вес вчера NUM   \n",
       "9                  сегодня читать товарищ   \n",
       "\n",
       "                         message_synonyms  \n",
       "0                 NUM доплата отпуск крок  \n",
       "1                            NUM зарплата  \n",
       "2                            NUM зарплата  \n",
       "3        NUM кошулька дать немного деньга  \n",
       "4                            зарплата NUM  \n",
       "5              NUM сентябрь олег дать NUM  \n",
       "6                        ещё зарплата NUM  \n",
       "7  вчера ходить бассейн проплыть NUM метр  \n",
       "8                           вес вчера NUM  \n",
       "9                  сегодня читать товарищ  "
      ]
     },
     "execution_count": 115,
     "metadata": {},
     "output_type": "execute_result"
    }
   ],
   "source": [
    "print(data.shape)\n",
    "data.head(10)"
   ]
  },
  {
   "cell_type": "code",
   "execution_count": 116,
   "metadata": {
    "collapsed": true
   },
   "outputs": [],
   "source": [
    "X = data[\"message_synonyms\"]\n",
    "Y = data[\"category\"]"
   ]
  },
  {
   "cell_type": "code",
   "execution_count": 117,
   "metadata": {},
   "outputs": [
    {
     "data": {
      "text/plain": [
       "(266, 162)"
      ]
     },
     "execution_count": 117,
     "metadata": {},
     "output_type": "execute_result"
    }
   ],
   "source": [
    "count_vectorizer = CountVectorizer()\n",
    "X_count = count_vectorizer.fit_transform(X)\n",
    "X_count.shape"
   ]
  },
  {
   "cell_type": "code",
   "execution_count": 118,
   "metadata": {},
   "outputs": [
    {
     "data": {
      "text/plain": [
       "(266, 162)"
      ]
     },
     "execution_count": 118,
     "metadata": {},
     "output_type": "execute_result"
    }
   ],
   "source": [
    "tfidf = TfidfTransformer()\n",
    "X_tfidf = tfidf.fit_transform(X_count)\n",
    "X_tfidf.shape"
   ]
  },
  {
   "cell_type": "code",
   "execution_count": 119,
   "metadata": {
    "collapsed": true
   },
   "outputs": [],
   "source": [
    "X_train, X_test, Y_train, Y_test = sklearn.model_selection.train_test_split(X_tfidf, Y, test_size=0.3, random_state=16)"
   ]
  },
  {
   "cell_type": "markdown",
   "metadata": {},
   "source": [
    "#### Наивный Байес"
   ]
  },
  {
   "cell_type": "code",
   "execution_count": 120,
   "metadata": {
    "collapsed": true
   },
   "outputs": [],
   "source": [
    "bayes = MultinomialNB(alpha=0.01)\n",
    "bayes.fit(X_train, Y_train)\n",
    "\n",
    "predicted = bayes.predict(X_test)"
   ]
  },
  {
   "cell_type": "code",
   "execution_count": 121,
   "metadata": {},
   "outputs": [
    {
     "name": "stdout",
     "output_type": "stream",
     "text": [
      "Accuracy: 0.85\n",
      "\n",
      "               event     income    other     outcome   timespend weight    \n",
      "Precision:     1.0       0.6       0.0       0.983     1.0       0.1       \n",
      "Recall:        0.5       0.75      0.0       0.866     1.0       1.0       \n",
      "F1:            0.667     0.667     0.0       0.921     1.0       0.182     \n",
      "\n",
      "\n",
      "Confusion matrix:\n",
      "\n",
      "          event     income    other     outcome   timespend weight    \n",
      "event     1         <1>       0         0         0         0         \n",
      "income    0         3         0         <1>       0         0         \n",
      "other     0         0         0         0         0         <1>       \n",
      "outcome   0         <1>       0         58        0         <8>       \n",
      "timespend 0         0         0         0         5         0         \n",
      "weight    0         0         0         0         0         1         \n"
     ]
    },
    {
     "name": "stderr",
     "output_type": "stream",
     "text": [
      "/usr/local/lib/python3.6/site-packages/sklearn/metrics/classification.py:1135: UndefinedMetricWarning: Precision is ill-defined and being set to 0.0 in labels with no predicted samples.\n",
      "  'precision', 'predicted', average, warn_for)\n",
      "/usr/local/lib/python3.6/site-packages/sklearn/metrics/classification.py:1135: UndefinedMetricWarning: F-score is ill-defined and being set to 0.0 in labels with no predicted samples.\n",
      "  'precision', 'predicted', average, warn_for)\n"
     ]
    }
   ],
   "source": [
    "print_scores(Y_test, predicted, bayes.classes_.tolist())\n",
    "print(\"\\n\\n\\nConfusion matrix:\\n\")\n",
    "print_conf_matrix(Y_test, predicted, bayes.classes_.tolist())"
   ]
  },
  {
   "cell_type": "markdown",
   "metadata": {},
   "source": [
    "#### SVM"
   ]
  },
  {
   "cell_type": "code",
   "execution_count": 122,
   "metadata": {
    "collapsed": true
   },
   "outputs": [],
   "source": [
    "svm = sklearn.linear_model.SGDClassifier(loss=\"hinge\", alpha=1e-3, max_iter=5)\n",
    "svm.fit(X_train, Y_train)\n",
    "\n",
    "predicted = svm.predict(X_test)"
   ]
  },
  {
   "cell_type": "code",
   "execution_count": 123,
   "metadata": {},
   "outputs": [
    {
     "name": "stdout",
     "output_type": "stream",
     "text": [
      "Accuracy: 0.9125\n",
      "\n",
      "               event     income    other     outcome   timespend weight    \n",
      "Precision:     1.0       1.0       0.0       0.905     1.0       1.0       \n",
      "Recall:        0.5       0.25      0.0       1.0       0.6       1.0       \n",
      "F1:            0.667     0.4       0.0       0.95      0.75      1.0       \n",
      "\n",
      "\n",
      "Confusion matrix:\n",
      "\n",
      "          event     income    other     outcome   timespend weight    \n",
      "event     1         0         0         <1>       0         0         \n",
      "income    0         1         0         <3>       0         0         \n",
      "other     0         0         0         <1>       0         0         \n",
      "outcome   0         0         0         67        0         0         \n",
      "timespend 0         0         0         <2>       3         0         \n",
      "weight    0         0         0         0         0         1         \n"
     ]
    },
    {
     "name": "stderr",
     "output_type": "stream",
     "text": [
      "/usr/local/lib/python3.6/site-packages/sklearn/metrics/classification.py:1135: UndefinedMetricWarning: Precision is ill-defined and being set to 0.0 in labels with no predicted samples.\n",
      "  'precision', 'predicted', average, warn_for)\n",
      "/usr/local/lib/python3.6/site-packages/sklearn/metrics/classification.py:1135: UndefinedMetricWarning: F-score is ill-defined and being set to 0.0 in labels with no predicted samples.\n",
      "  'precision', 'predicted', average, warn_for)\n"
     ]
    }
   ],
   "source": [
    "print_scores(Y_test, predicted, bayes.classes_.tolist())\n",
    "print(\"\\n\\n\\nConfusion matrix:\\n\")\n",
    "print_conf_matrix(Y_test, predicted, bayes.classes_.tolist())"
   ]
  },
  {
   "cell_type": "markdown",
   "metadata": {},
   "source": [
    "#### CatBoost - неуместно использовать с некатегориальными фичами, нужно применить для другого способа классификации"
   ]
  },
  {
   "cell_type": "code",
   "execution_count": 107,
   "metadata": {
    "collapsed": true
   },
   "outputs": [],
   "source": [
    "# X_train_array = X_train.toarray()\n",
    "# X_test_array = X_test.toarray()"
   ]
  },
  {
   "cell_type": "code",
   "execution_count": 108,
   "metadata": {
    "collapsed": true
   },
   "outputs": [],
   "source": [
    "# le = sklearn.preprocessing.LabelEncoder()\n",
    "# le.fit(Y_test.append(Y_train))"
   ]
  },
  {
   "cell_type": "code",
   "execution_count": 109,
   "metadata": {
    "collapsed": true
   },
   "outputs": [],
   "source": [
    "# Y_train_digits = le.transform(Y_train)"
   ]
  },
  {
   "cell_type": "code",
   "execution_count": 110,
   "metadata": {
    "collapsed": true
   },
   "outputs": [],
   "source": [
    "# catboost = CatBoostClassifier(iterations=2, depth=2, learning_rate=1, loss_function='Logloss', verbose=True)\n",
    "# catboost.fit(X_train_array, Y_train_digits, verbose=True, cat_features=None)\n",
    "\n",
    "# predicted = catboost.predict(X_test_array)"
   ]
  }
 ],
 "metadata": {
  "kernelspec": {
   "display_name": "Python 3",
   "language": "python",
   "name": "python3"
  },
  "language_info": {
   "codemirror_mode": {
    "name": "ipython",
    "version": 3
   },
   "file_extension": ".py",
   "mimetype": "text/x-python",
   "name": "python",
   "nbconvert_exporter": "python",
   "pygments_lexer": "ipython3",
   "version": "3.6.2"
  }
 },
 "nbformat": 4,
 "nbformat_minor": 2
}
