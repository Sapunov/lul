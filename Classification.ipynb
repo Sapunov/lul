{
 "cells": [
  {
   "cell_type": "code",
   "execution_count": 389,
   "metadata": {
    "collapsed": true
   },
   "outputs": [],
   "source": [
    "import pandas as pd\n",
    "import sklearn\n",
    "import re\n",
    "import numpy as np\n",
    "import string as string_lib\n",
    "\n",
    "from nltk.tokenize import word_tokenize\n",
    "from nltk.corpus import stopwords\n",
    "from nltk.stem import SnowballStemmer\n",
    "from pymorphy2 import MorphAnalyzer\n",
    "\n",
    "from sklearn.feature_extraction.text import TfidfTransformer\n",
    "from sklearn.feature_extraction.text import CountVectorizer\n",
    "\n",
    "from sklearn.naive_bayes import MultinomialNB\n",
    "\n",
    "# from catboost import CatBoostClassifier"
   ]
  },
  {
   "cell_type": "code",
   "execution_count": 390,
   "metadata": {
    "collapsed": true
   },
   "outputs": [],
   "source": [
    "NUMBER = r\"([0-9]+)(\\.[0-9]+)?\"\n",
    "SPACE = r\"[ \\n\\t]\"\n",
    "\n",
    "HALF_HOUR = r\"полчас(а|ам|ами|ах|е|ой|у|ы)?\"\n",
    "HOUR = r\"час(а|ам|ами|ах|е|ов|ом|у|ы)?\"\n",
    "MINUTE = r\"минут(а|ам|ами|ах|е|ой|у|ы)?\"\n",
    "SECOND = r\"секунд(а|ам|ами|ах|е|ой|у|ы)?\"\n",
    "\n",
    "TODAY = r\"сегодня\"\n",
    "YESTERDAY = r\"вчера\"\n",
    "\n",
    "AUGUST = r\"август(а|ам|ами|ах|е|ов|ом|у|ы)?\"\n",
    "APRIL = r\"апрел(е|ей|ем|и|ь|ю|я|ям|ями|ях)\"\n",
    "DECEMBER = r\"декабр(ь|и|я|ей|ю|ям|ём|ями|е|ях)\"\n",
    "JULY = r\"июл(ь|и|я|ей|ю|ям|ем|ями|е|ях)\"\n",
    "JUNE = r\"июн(ь|и|я|ей|ю|ям|ем|ями|е|ях)\"\n",
    "MAY = r\"ма(й|и|я|ев|ю|ям|ем|ями|е|ях)\"\n",
    "MARCH = r\"март(ы|а|ов|у|ам|ом|ами|е|ах)?\"\n",
    "NOVEMBER = r\"ноябр(ь|и|я|ей|ю|ям|ём|ями|е|ях)\"\n",
    "OCTOBER = r\"октябр(ь|и|я|ей|ю|ям|ём|ями|е|ях)\"\n",
    "SEPTEMBER = r\"сентябр(ь|и|я|ей|ю|ям|ём|ями|е|ях)\"\n",
    "FEBRUARY = r\"феврал(ь|и|я|ей|ю|ям|ём|ями|е|ях)\"\n",
    "JANUARY = r\"январ(ь|и|я|ей|ю|ям|ём|ями|е|ях)\"\n",
    "\n",
    "WEIGHT = r\"ве(с|са|сов|су|сам|сом|сами|се|сах|сить|шу)\""
   ]
  },
  {
   "cell_type": "code",
   "execution_count": 391,
   "metadata": {
    "collapsed": true
   },
   "outputs": [],
   "source": [
    "morph = MorphAnalyzer()"
   ]
  },
  {
   "cell_type": "code",
   "execution_count": 392,
   "metadata": {},
   "outputs": [],
   "source": [
    "def find_time(string):\n",
    "    \n",
    "    time_word = r\"({0}|{1}|{2}|{3})\".format(HOUR, MINUTE, SECOND, HALF_HOUR)\n",
    "    time = r\"({0}{1}{2}|{2}{1}{0}|{2})\".format(NUMBER, SPACE, time_word)\n",
    "    \n",
    "    result = re.search(time, string, re.UNICODE | re.IGNORECASE)\n",
    "    \n",
    "    if result is not None:\n",
    "        return result.group()"
   ]
  },
  {
   "cell_type": "code",
   "execution_count": 393,
   "metadata": {
    "collapsed": true
   },
   "outputs": [],
   "source": [
    "def find_date(string):\n",
    "    \n",
    "    date_word = \"(\" + (r\"|\".join(\"{{{0}}}\".format(i) for i in range(12))).format(\n",
    "        AUGUST, APRIL, DECEMBER, JULY, JUNE, MAY, MARCH,\n",
    "        NOVEMBER, OCTOBER, SEPTEMBER, FEBRUARY, JANUARY) + \")\"\n",
    "    \n",
    "    date_relative = r\"({0}|{1})\".format(TODAY, YESTERDAY)\n",
    "    \n",
    "    date = r\"({0}{1}{2})|{2}{1}{0}|{3}\".format(NUMBER, SPACE, date_word, date_relative)\n",
    "    \n",
    "    result = re.search(date, string, re.UNICODE | re.IGNORECASE)\n",
    "    \n",
    "    if result is not None:\n",
    "        return result.group()"
   ]
  },
  {
   "cell_type": "code",
   "execution_count": 394,
   "metadata": {
    "collapsed": true
   },
   "outputs": [],
   "source": [
    "def find_weight(string):\n",
    "    \n",
    "    weight_result = re.search(WEIGHT, string, re.UNICODE | re.IGNORECASE)\n",
    "    \n",
    "    if not weight_result:\n",
    "        return None\n",
    "    \n",
    "    number_result = re.search(NUMBER, string)\n",
    "    \n",
    "    if number_result:\n",
    "        return number_result.group()"
   ]
  },
  {
   "cell_type": "code",
   "execution_count": 395,
   "metadata": {
    "collapsed": true
   },
   "outputs": [],
   "source": [
    "def replace_datepointer(string, replace_on=\"DATEPOINTER\"):\n",
    "    \n",
    "    pointer = find_date(string)\n",
    "    \n",
    "    if pointer:\n",
    "        string = string.replace(pointer, replace_on)\n",
    "    \n",
    "    return string"
   ]
  },
  {
   "cell_type": "code",
   "execution_count": 396,
   "metadata": {
    "collapsed": true
   },
   "outputs": [],
   "source": [
    "def replace_timepointer(string, replace_on=\"TIMEPOINTER\"):\n",
    "    \n",
    "    pointer = find_time(string)\n",
    "    \n",
    "    if pointer:\n",
    "        string = string.replace(pointer, replace_on)\n",
    "    \n",
    "    return string"
   ]
  },
  {
   "cell_type": "code",
   "execution_count": 397,
   "metadata": {
    "collapsed": true
   },
   "outputs": [],
   "source": [
    "def replace_weightpointer(string, replace_on=\"WEIGHTPOINTER\"):\n",
    "\n",
    "    weight = find_weight(string)\n",
    "    \n",
    "    # Если нашли именно вес, то ставим указатель\n",
    "    if weight:\n",
    "        string = re.sub(WEIGHT, replace_on, string, re.UNICODE | re.IGNORECASE)\n",
    "    \n",
    "        # И удаляем цифру чтобы не смущать классификатор\n",
    "        string = re.sub(NUMBER, \"\", string)\n",
    "    \n",
    "    return string"
   ]
  },
  {
   "cell_type": "code",
   "execution_count": 398,
   "metadata": {
    "collapsed": true
   },
   "outputs": [],
   "source": [
    "stemmer = SnowballStemmer(\"russian\")\n",
    "\n",
    "def stem(string):\n",
    "    \n",
    "    tokens = [stemmer.stem(token) for token in word_tokenize(string)]\n",
    "\n",
    "    return \" \".join(tokens)"
   ]
  },
  {
   "cell_type": "code",
   "execution_count": 399,
   "metadata": {
    "collapsed": true
   },
   "outputs": [],
   "source": [
    "def first_form(string):\n",
    "    \n",
    "    tokens = word_tokenize(string)\n",
    "    \n",
    "    for i in range(len(tokens)):\n",
    "        if tokens[i].islower():\n",
    "            parse = morph.parse(tokens[i])\n",
    "            tokens[i] = parse[0].normal_form\n",
    "    \n",
    "    return \" \".join(tokens)"
   ]
  },
  {
   "cell_type": "code",
   "execution_count": 400,
   "metadata": {
    "collapsed": true
   },
   "outputs": [],
   "source": [
    "synonyms = {\n",
    "        \"зарплата\": [\"зп\"],\n",
    "        \"электричка\": [\"элка\"]\n",
    "    }\n",
    "\n",
    "replace_map = {}\n",
    "\n",
    "for key, value in synonyms.items():\n",
    "    for syn in value:\n",
    "        replace_map[first_form(syn)] = first_form(key)\n",
    "\n",
    "def replace_synonyms(string):\n",
    "    \n",
    "    tokens = word_tokenize(string)\n",
    "    \n",
    "    for i in range(len(tokens)):\n",
    "        tokens[i] = replace_map.get(tokens[i], tokens[i])\n",
    "    \n",
    "    \n",
    "    return \" \".join(tokens)"
   ]
  },
  {
   "cell_type": "code",
   "execution_count": 401,
   "metadata": {
    "collapsed": true
   },
   "outputs": [],
   "source": [
    "def replace_numbers(string, replace_on=\"NUM\"):\n",
    "    \n",
    "    return re.sub(NUMBER, replace_on, string)"
   ]
  },
  {
   "cell_type": "code",
   "execution_count": 402,
   "metadata": {
    "collapsed": true
   },
   "outputs": [],
   "source": [
    "def replace_letterdigits(string):\n",
    "    \n",
    "    tokens = word_tokenize(string)\n",
    "    \n",
    "    for i in range(len(tokens)):\n",
    "        match = re.match(r\"^(([0-9]+)(\\.[0-9]+)?)(k|к)$\", tokens[i], re.UNICODE)\n",
    "        \n",
    "        if match:\n",
    "            tokens[i] = str(int(float(match.group(1)) * 1000))\n",
    "    \n",
    "    return \" \".join(tokens)"
   ]
  },
  {
   "cell_type": "code",
   "execution_count": 403,
   "metadata": {
    "collapsed": true
   },
   "outputs": [],
   "source": [
    "russian_stopwords = stopwords.words(\"russian\")\n",
    "\n",
    "def delete_stopwords(string):\n",
    "    \n",
    "    tokens = word_tokenize(string)\n",
    "    \n",
    "    for token in tokens:\n",
    "        if token in russian_stopwords:\n",
    "            tokens.remove(token)\n",
    "    \n",
    "    return \" \".join(tokens)"
   ]
  },
  {
   "cell_type": "code",
   "execution_count": 404,
   "metadata": {
    "collapsed": true
   },
   "outputs": [],
   "source": [
    "# translate_table = dict((ord(char), None) for char in string_lib.punctuation)\n",
    "\n",
    "def delete_punctuation(string):\n",
    "    \n",
    "    tokens = word_tokenize(string)\n",
    "    \n",
    "    for token in tokens:\n",
    "        if token in string_lib.punctuation:\n",
    "            tokens.remove(token)\n",
    "    \n",
    "    return \" \".join(tokens)"
   ]
  },
  {
   "cell_type": "code",
   "execution_count": 405,
   "metadata": {
    "collapsed": true
   },
   "outputs": [],
   "source": [
    "def print_conf_matrix(y_test, y_predicted, categories):\n",
    "    \n",
    "    ma = sklearn.metrics.confusion_matrix(y_test, y_predicted).astype(str)\n",
    "    ma = np.insert(ma, 0, categories, axis=1)\n",
    "    ma = np.insert(ma, 0, [\"\"] + categories, axis=0)\n",
    "    \n",
    "    for row in range(ma.shape[0]):\n",
    "        for col in range(ma.shape[1]):\n",
    "            if col != row and ma[row, col] != \"0\" and col > 0 and row > 0:\n",
    "                print(\"{0:<10}\".format(\"<\" + ma[row, col] + \">\"), end=\"\")\n",
    "            else:\n",
    "                print(\"{0:<10}\".format(ma[row, col]), end=\"\")\n",
    "        print()"
   ]
  },
  {
   "cell_type": "code",
   "execution_count": 406,
   "metadata": {
    "collapsed": true
   },
   "outputs": [],
   "source": [
    "def print_scores(y_test, y_predicted, categories):\n",
    "    \n",
    "    print(\"Accuracy: {0}\".format(sklearn.metrics.accuracy_score(y_test, y_predicted)), end=\"\\n\\n\")\n",
    "    \n",
    "    print(\" \" * 15, end=\"\")\n",
    "    for cat in categories:\n",
    "        print(\"{0:<10}\".format(cat), end=\"\")\n",
    "    \n",
    "    print(\"\\nPrecision:     \", end=\"\")\n",
    "    for digit in sklearn.metrics.precision_score(y_test, y_predicted, average=None):\n",
    "        print(\"{0:<10}\".format(round(digit, 3)), end=\"\")\n",
    "    \n",
    "    print(\"\\nRecall:        \", end=\"\")\n",
    "    for digit in sklearn.metrics.recall_score(y_test, y_predicted, average=None):\n",
    "        print(\"{0:<10}\".format(round(digit, 3)), end=\"\")\n",
    "        \n",
    "    print(\"\\nF1:            \", end=\"\")\n",
    "    for digit in sklearn.metrics.f1_score(y_test, y_predicted, average=None):\n",
    "        print(\"{0:<10}\".format(round(digit, 3)), end=\"\")"
   ]
  },
  {
   "cell_type": "code",
   "execution_count": 444,
   "metadata": {
    "collapsed": true
   },
   "outputs": [],
   "source": [
    "data = pd.read_csv(\"./messages/30_09_2017_19_37.csv\", delimiter=\";\")"
   ]
  },
  {
   "cell_type": "code",
   "execution_count": 445,
   "metadata": {
    "collapsed": true
   },
   "outputs": [],
   "source": [
    "data.loc[:, \"message\"] = data[\"message\"].apply(str.lower).apply(replace_letterdigits)\n",
    "data.loc[:, \"message\"] = data[\"message\"].apply(delete_punctuation)"
   ]
  },
  {
   "cell_type": "code",
   "execution_count": 446,
   "metadata": {
    "collapsed": true
   },
   "outputs": [],
   "source": [
    "data[\"timepointer\"] = data[\"message\"].apply(replace_timepointer)"
   ]
  },
  {
   "cell_type": "code",
   "execution_count": 447,
   "metadata": {
    "collapsed": true
   },
   "outputs": [],
   "source": [
    "data[\"datepointer\"] = data[\"timepointer\"].apply(replace_datepointer)"
   ]
  },
  {
   "cell_type": "code",
   "execution_count": 448,
   "metadata": {},
   "outputs": [],
   "source": [
    "data[\"weightpointer\"] = data[\"datepointer\"].apply(replace_weightpointer)"
   ]
  },
  {
   "cell_type": "code",
   "execution_count": 449,
   "metadata": {
    "collapsed": true
   },
   "outputs": [],
   "source": [
    "data[\"no_num\"] = data[\"weightpointer\"].apply(replace_numbers)"
   ]
  },
  {
   "cell_type": "code",
   "execution_count": 450,
   "metadata": {
    "collapsed": true
   },
   "outputs": [],
   "source": [
    "data[\"no_stopwords\"] = data[\"no_num\"].apply(delete_stopwords)"
   ]
  },
  {
   "cell_type": "code",
   "execution_count": 451,
   "metadata": {
    "collapsed": true
   },
   "outputs": [],
   "source": [
    "data[\"first_form\"] = data[\"no_stopwords\"].apply(first_form)"
   ]
  },
  {
   "cell_type": "code",
   "execution_count": 452,
   "metadata": {
    "collapsed": true
   },
   "outputs": [],
   "source": [
    "data[\"synonyms\"] = data[\"first_form\"].apply(replace_synonyms)"
   ]
  },
  {
   "cell_type": "code",
   "execution_count": 462,
   "metadata": {},
   "outputs": [
    {
     "name": "stdout",
     "output_type": "stream",
     "text": [
      "(266, 9)\n"
     ]
    },
    {
     "data": {
      "text/html": [
       "<div>\n",
       "<style>\n",
       "    .dataframe thead tr:only-child th {\n",
       "        text-align: right;\n",
       "    }\n",
       "\n",
       "    .dataframe thead th {\n",
       "        text-align: left;\n",
       "    }\n",
       "\n",
       "    .dataframe tbody tr th {\n",
       "        vertical-align: top;\n",
       "    }\n",
       "</style>\n",
       "<table border=\"1\" class=\"dataframe\">\n",
       "  <thead>\n",
       "    <tr style=\"text-align: right;\">\n",
       "      <th></th>\n",
       "      <th>message</th>\n",
       "      <th>category</th>\n",
       "      <th>timepointer</th>\n",
       "      <th>datepointer</th>\n",
       "      <th>weightpointer</th>\n",
       "      <th>no_num</th>\n",
       "      <th>no_stopwords</th>\n",
       "      <th>first_form</th>\n",
       "      <th>synonyms</th>\n",
       "    </tr>\n",
       "  </thead>\n",
       "  <tbody>\n",
       "    <tr>\n",
       "      <th>0</th>\n",
       "      <td>23800 доплаты за отпуска в крок</td>\n",
       "      <td>income</td>\n",
       "      <td>23800 доплаты за отпуска в крок</td>\n",
       "      <td>23800 доплаты за отпуска в крок</td>\n",
       "      <td>23800 доплаты за отпуска в крок</td>\n",
       "      <td>NUM доплаты за отпуска в крок</td>\n",
       "      <td>NUM доплаты отпуска крок</td>\n",
       "      <td>NUM доплата отпуск крок</td>\n",
       "      <td>NUM доплата отпуск крок</td>\n",
       "    </tr>\n",
       "    <tr>\n",
       "      <th>1</th>\n",
       "      <td>54782.52 зарплата</td>\n",
       "      <td>income</td>\n",
       "      <td>54782.52 зарплата</td>\n",
       "      <td>54782.52 зарплата</td>\n",
       "      <td>54782.52 зарплата</td>\n",
       "      <td>NUM зарплата</td>\n",
       "      <td>NUM зарплата</td>\n",
       "      <td>NUM зарплата</td>\n",
       "      <td>NUM зарплата</td>\n",
       "    </tr>\n",
       "    <tr>\n",
       "      <th>2</th>\n",
       "      <td>6086.5 зарплата</td>\n",
       "      <td>income</td>\n",
       "      <td>6086.5 зарплата</td>\n",
       "      <td>6086.5 зарплата</td>\n",
       "      <td>6086.5 зарплата</td>\n",
       "      <td>NUM зарплата</td>\n",
       "      <td>NUM зарплата</td>\n",
       "      <td>NUM зарплата</td>\n",
       "      <td>NUM зарплата</td>\n",
       "    </tr>\n",
       "    <tr>\n",
       "      <th>3</th>\n",
       "      <td>1500 кошулька дала немного денег</td>\n",
       "      <td>income</td>\n",
       "      <td>1500 кошулька дала немного денег</td>\n",
       "      <td>1500 кошулька дала немного денег</td>\n",
       "      <td>1500 кошулька дала немного денег</td>\n",
       "      <td>NUM кошулька дала немного денег</td>\n",
       "      <td>NUM кошулька дала немного денег</td>\n",
       "      <td>NUM кошулька дать немного деньга</td>\n",
       "      <td>NUM кошулька дать немного деньга</td>\n",
       "    </tr>\n",
       "    <tr>\n",
       "      <th>4</th>\n",
       "      <td>зп 36000</td>\n",
       "      <td>income</td>\n",
       "      <td>зп 36000</td>\n",
       "      <td>зп 36000</td>\n",
       "      <td>зп 36000</td>\n",
       "      <td>зп NUM</td>\n",
       "      <td>зп NUM</td>\n",
       "      <td>зп NUM</td>\n",
       "      <td>зарплата NUM</td>\n",
       "    </tr>\n",
       "    <tr>\n",
       "      <th>5</th>\n",
       "      <td>9 сентября олег дал 30000</td>\n",
       "      <td>income</td>\n",
       "      <td>9 сентября олег дал 30000</td>\n",
       "      <td>DATEPOINTER олег дал 30000</td>\n",
       "      <td>DATEPOINTER олег дал 30000</td>\n",
       "      <td>DATEPOINTER олег дал NUM</td>\n",
       "      <td>DATEPOINTER олег дал NUM</td>\n",
       "      <td>DATEPOINTER олег дать NUM</td>\n",
       "      <td>DATEPOINTER олег дать NUM</td>\n",
       "    </tr>\n",
       "    <tr>\n",
       "      <th>6</th>\n",
       "      <td>ещё зп 4000</td>\n",
       "      <td>income</td>\n",
       "      <td>ещё зп 4000</td>\n",
       "      <td>ещё зп 4000</td>\n",
       "      <td>ещё зп 4000</td>\n",
       "      <td>ещё зп NUM</td>\n",
       "      <td>ещё зп NUM</td>\n",
       "      <td>ещё зп NUM</td>\n",
       "      <td>ещё зарплата NUM</td>\n",
       "    </tr>\n",
       "    <tr>\n",
       "      <th>7</th>\n",
       "      <td>вчера ходил в бассейн проплыл 600 метров</td>\n",
       "      <td>other</td>\n",
       "      <td>вчера ходил в бассейн проплыл 600 метров</td>\n",
       "      <td>DATEPOINTER ходил в бассейн проплыл 600 метров</td>\n",
       "      <td>DATEPOINTER ходил в бассейн проплыл 600 метров</td>\n",
       "      <td>DATEPOINTER ходил в бассейн проплыл NUM метров</td>\n",
       "      <td>DATEPOINTER ходил бассейн проплыл NUM метров</td>\n",
       "      <td>DATEPOINTER ходить бассейн проплыть NUM метр</td>\n",
       "      <td>DATEPOINTER ходить бассейн проплыть NUM метр</td>\n",
       "    </tr>\n",
       "    <tr>\n",
       "      <th>8</th>\n",
       "      <td>вес вчера 74.7</td>\n",
       "      <td>weight</td>\n",
       "      <td>вес вчера 74.7</td>\n",
       "      <td>вес DATEPOINTER 74.7</td>\n",
       "      <td>WEIGHTPOINTER DATEPOINTER</td>\n",
       "      <td>WEIGHTPOINTER DATEPOINTER</td>\n",
       "      <td>WEIGHTPOINTER DATEPOINTER</td>\n",
       "      <td>WEIGHTPOINTER DATEPOINTER</td>\n",
       "      <td>WEIGHTPOINTER DATEPOINTER</td>\n",
       "    </tr>\n",
       "    <tr>\n",
       "      <th>9</th>\n",
       "      <td>сегодня читаю три товарища</td>\n",
       "      <td>event</td>\n",
       "      <td>сегодня читаю три товарища</td>\n",
       "      <td>DATEPOINTER читаю три товарища</td>\n",
       "      <td>DATEPOINTER читаю три товарища</td>\n",
       "      <td>DATEPOINTER читаю три товарища</td>\n",
       "      <td>DATEPOINTER читаю товарища</td>\n",
       "      <td>DATEPOINTER читать товарищ</td>\n",
       "      <td>DATEPOINTER читать товарищ</td>\n",
       "    </tr>\n",
       "  </tbody>\n",
       "</table>\n",
       "</div>"
      ],
      "text/plain": [
       "                                    message category  \\\n",
       "0           23800 доплаты за отпуска в крок   income   \n",
       "1                         54782.52 зарплата   income   \n",
       "2                           6086.5 зарплата   income   \n",
       "3          1500 кошулька дала немного денег   income   \n",
       "4                                  зп 36000   income   \n",
       "5                 9 сентября олег дал 30000   income   \n",
       "6                               ещё зп 4000   income   \n",
       "7  вчера ходил в бассейн проплыл 600 метров    other   \n",
       "8                            вес вчера 74.7   weight   \n",
       "9                сегодня читаю три товарища    event   \n",
       "\n",
       "                                timepointer  \\\n",
       "0           23800 доплаты за отпуска в крок   \n",
       "1                         54782.52 зарплата   \n",
       "2                           6086.5 зарплата   \n",
       "3          1500 кошулька дала немного денег   \n",
       "4                                  зп 36000   \n",
       "5                 9 сентября олег дал 30000   \n",
       "6                               ещё зп 4000   \n",
       "7  вчера ходил в бассейн проплыл 600 метров   \n",
       "8                            вес вчера 74.7   \n",
       "9                сегодня читаю три товарища   \n",
       "\n",
       "                                      datepointer  \\\n",
       "0                 23800 доплаты за отпуска в крок   \n",
       "1                               54782.52 зарплата   \n",
       "2                                 6086.5 зарплата   \n",
       "3                1500 кошулька дала немного денег   \n",
       "4                                        зп 36000   \n",
       "5                      DATEPOINTER олег дал 30000   \n",
       "6                                     ещё зп 4000   \n",
       "7  DATEPOINTER ходил в бассейн проплыл 600 метров   \n",
       "8                            вес DATEPOINTER 74.7   \n",
       "9                  DATEPOINTER читаю три товарища   \n",
       "\n",
       "                                    weightpointer  \\\n",
       "0                 23800 доплаты за отпуска в крок   \n",
       "1                               54782.52 зарплата   \n",
       "2                                 6086.5 зарплата   \n",
       "3                1500 кошулька дала немного денег   \n",
       "4                                        зп 36000   \n",
       "5                      DATEPOINTER олег дал 30000   \n",
       "6                                     ещё зп 4000   \n",
       "7  DATEPOINTER ходил в бассейн проплыл 600 метров   \n",
       "8                      WEIGHTPOINTER DATEPOINTER    \n",
       "9                  DATEPOINTER читаю три товарища   \n",
       "\n",
       "                                           no_num  \\\n",
       "0                   NUM доплаты за отпуска в крок   \n",
       "1                                    NUM зарплата   \n",
       "2                                    NUM зарплата   \n",
       "3                 NUM кошулька дала немного денег   \n",
       "4                                          зп NUM   \n",
       "5                        DATEPOINTER олег дал NUM   \n",
       "6                                      ещё зп NUM   \n",
       "7  DATEPOINTER ходил в бассейн проплыл NUM метров   \n",
       "8                      WEIGHTPOINTER DATEPOINTER    \n",
       "9                  DATEPOINTER читаю три товарища   \n",
       "\n",
       "                                   no_stopwords  \\\n",
       "0                      NUM доплаты отпуска крок   \n",
       "1                                  NUM зарплата   \n",
       "2                                  NUM зарплата   \n",
       "3               NUM кошулька дала немного денег   \n",
       "4                                        зп NUM   \n",
       "5                      DATEPOINTER олег дал NUM   \n",
       "6                                    ещё зп NUM   \n",
       "7  DATEPOINTER ходил бассейн проплыл NUM метров   \n",
       "8                     WEIGHTPOINTER DATEPOINTER   \n",
       "9                    DATEPOINTER читаю товарища   \n",
       "\n",
       "                                     first_form  \\\n",
       "0                       NUM доплата отпуск крок   \n",
       "1                                  NUM зарплата   \n",
       "2                                  NUM зарплата   \n",
       "3              NUM кошулька дать немного деньга   \n",
       "4                                        зп NUM   \n",
       "5                     DATEPOINTER олег дать NUM   \n",
       "6                                    ещё зп NUM   \n",
       "7  DATEPOINTER ходить бассейн проплыть NUM метр   \n",
       "8                     WEIGHTPOINTER DATEPOINTER   \n",
       "9                    DATEPOINTER читать товарищ   \n",
       "\n",
       "                                       synonyms  \n",
       "0                       NUM доплата отпуск крок  \n",
       "1                                  NUM зарплата  \n",
       "2                                  NUM зарплата  \n",
       "3              NUM кошулька дать немного деньга  \n",
       "4                                  зарплата NUM  \n",
       "5                     DATEPOINTER олег дать NUM  \n",
       "6                              ещё зарплата NUM  \n",
       "7  DATEPOINTER ходить бассейн проплыть NUM метр  \n",
       "8                     WEIGHTPOINTER DATEPOINTER  \n",
       "9                    DATEPOINTER читать товарищ  "
      ]
     },
     "execution_count": 462,
     "metadata": {},
     "output_type": "execute_result"
    }
   ],
   "source": [
    "print(data.shape)\n",
    "data.head(10)"
   ]
  },
  {
   "cell_type": "code",
   "execution_count": 476,
   "metadata": {
    "collapsed": true
   },
   "outputs": [],
   "source": [
    "X = data[\"synonyms\"]\n",
    "Y = data[\"category\"]"
   ]
  },
  {
   "cell_type": "code",
   "execution_count": 477,
   "metadata": {},
   "outputs": [
    {
     "data": {
      "text/plain": [
       "(266, 159)"
      ]
     },
     "execution_count": 477,
     "metadata": {},
     "output_type": "execute_result"
    }
   ],
   "source": [
    "count_vectorizer = CountVectorizer()\n",
    "tfidf_vectorizer = TfidfTransformer()\n",
    "\n",
    "X_count = count_vectorizer.fit_transform(X)\n",
    "X_tfidf = tfidf_vectorizer.fit_transform(X_count)\n",
    "X_tfidf.shape"
   ]
  },
  {
   "cell_type": "code",
   "execution_count": 481,
   "metadata": {
    "collapsed": true
   },
   "outputs": [],
   "source": [
    "X_train, X_test, Y_train, Y_test = sklearn.model_selection.train_test_split(X_tfidf, Y, test_size=0.3, random_state=16)"
   ]
  },
  {
   "cell_type": "code",
   "execution_count": 482,
   "metadata": {
    "collapsed": true
   },
   "outputs": [],
   "source": [
    "X_train_text, X_test_text, *_ = sklearn.model_selection.train_test_split(X, Y, test_size=0.3, random_state=16)"
   ]
  },
  {
   "cell_type": "markdown",
   "metadata": {},
   "source": [
    "#### SVM"
   ]
  },
  {
   "cell_type": "code",
   "execution_count": 483,
   "metadata": {},
   "outputs": [],
   "source": [
    "svm = sklearn.linear_model.SGDClassifier(loss=\"hinge\", alpha=1e-3, max_iter=5)\n",
    "svm.fit(X_train, Y_train)\n",
    "\n",
    "predicted = svm.predict(X_test)"
   ]
  },
  {
   "cell_type": "code",
   "execution_count": 484,
   "metadata": {},
   "outputs": [
    {
     "name": "stdout",
     "output_type": "stream",
     "text": [
      "Accuracy: 0.9375\n",
      "\n",
      "               event     income    other     outcome   timespend weight    \n",
      "Precision:     0.5       1.0       0.0       0.944     1.0       1.0       \n",
      "Recall:        0.5       0.25      0.0       1.0       1.0       1.0       \n",
      "F1:            0.5       0.4       0.0       0.971     1.0       1.0       \n",
      "\n",
      "\n",
      "Confusion matrix:\n",
      "\n",
      "          event     income    other     outcome   timespend weight    \n",
      "event     1         0         0         <1>       0         0         \n",
      "income    0         1         0         <3>       0         0         \n",
      "other     <1>       0         0         0         0         0         \n",
      "outcome   0         0         0         67        0         0         \n",
      "timespend 0         0         0         0         5         0         \n",
      "weight    0         0         0         0         0         1         \n"
     ]
    },
    {
     "name": "stderr",
     "output_type": "stream",
     "text": [
      "/usr/local/lib/python3.6/site-packages/sklearn/metrics/classification.py:1135: UndefinedMetricWarning: Precision is ill-defined and being set to 0.0 in labels with no predicted samples.\n",
      "  'precision', 'predicted', average, warn_for)\n",
      "/usr/local/lib/python3.6/site-packages/sklearn/metrics/classification.py:1135: UndefinedMetricWarning: F-score is ill-defined and being set to 0.0 in labels with no predicted samples.\n",
      "  'precision', 'predicted', average, warn_for)\n"
     ]
    }
   ],
   "source": [
    "print_scores(Y_test, predicted, bayes.classes_.tolist())\n",
    "print(\"\\n\\n\\nConfusion matrix:\\n\")\n",
    "print_conf_matrix(Y_test, predicted, bayes.classes_.tolist())"
   ]
  },
  {
   "cell_type": "code",
   "execution_count": 498,
   "metadata": {},
   "outputs": [
    {
     "data": {
      "text/html": [
       "<div>\n",
       "<style>\n",
       "    .dataframe thead tr:only-child th {\n",
       "        text-align: right;\n",
       "    }\n",
       "\n",
       "    .dataframe thead th {\n",
       "        text-align: left;\n",
       "    }\n",
       "\n",
       "    .dataframe tbody tr th {\n",
       "        vertical-align: top;\n",
       "    }\n",
       "</style>\n",
       "<table border=\"1\" class=\"dataframe\">\n",
       "  <thead>\n",
       "    <tr style=\"text-align: right;\">\n",
       "      <th></th>\n",
       "      <th>text</th>\n",
       "      <th>y_test</th>\n",
       "      <th>predicted</th>\n",
       "    </tr>\n",
       "  </thead>\n",
       "  <tbody>\n",
       "    <tr>\n",
       "      <th>7</th>\n",
       "      <td>DATEPOINTER ходить бассейн проплыть NUM метр</td>\n",
       "      <td>other</td>\n",
       "      <td>event</td>\n",
       "    </tr>\n",
       "    <tr>\n",
       "      <th>0</th>\n",
       "      <td>NUM доплата отпуск крок</td>\n",
       "      <td>income</td>\n",
       "      <td>outcome</td>\n",
       "    </tr>\n",
       "    <tr>\n",
       "      <th>10</th>\n",
       "      <td>сделать зарядка глаз</td>\n",
       "      <td>event</td>\n",
       "      <td>outcome</td>\n",
       "    </tr>\n",
       "    <tr>\n",
       "      <th>3</th>\n",
       "      <td>NUM кошулька дать немного деньга</td>\n",
       "      <td>income</td>\n",
       "      <td>outcome</td>\n",
       "    </tr>\n",
       "    <tr>\n",
       "      <th>5</th>\n",
       "      <td>DATEPOINTER олег дать NUM</td>\n",
       "      <td>income</td>\n",
       "      <td>outcome</td>\n",
       "    </tr>\n",
       "  </tbody>\n",
       "</table>\n",
       "</div>"
      ],
      "text/plain": [
       "                                            text  y_test predicted\n",
       "7   DATEPOINTER ходить бассейн проплыть NUM метр   other     event\n",
       "0                        NUM доплата отпуск крок  income   outcome\n",
       "10                          сделать зарядка глаз   event   outcome\n",
       "3               NUM кошулька дать немного деньга  income   outcome\n",
       "5                      DATEPOINTER олег дать NUM  income   outcome"
      ]
     },
     "execution_count": 498,
     "metadata": {},
     "output_type": "execute_result"
    }
   ],
   "source": [
    "results = pd.DataFrame()\n",
    "\n",
    "results[\"text\"] = X_test_text\n",
    "results[\"y_test\"] = Y_test\n",
    "results[\"predicted\"] = predicted\n",
    "\n",
    "results[~(results.y_test == results.predicted)]"
   ]
  },
  {
   "cell_type": "markdown",
   "metadata": {},
   "source": [
    "#### CatBoost - неуместно использовать с некатегориальными фичами, нужно применить для другого способа классификации"
   ]
  },
  {
   "cell_type": "code",
   "execution_count": 107,
   "metadata": {
    "collapsed": true
   },
   "outputs": [],
   "source": [
    "# X_train_array = X_train.toarray()\n",
    "# X_test_array = X_test.toarray()"
   ]
  },
  {
   "cell_type": "code",
   "execution_count": 108,
   "metadata": {
    "collapsed": true
   },
   "outputs": [],
   "source": [
    "# le = sklearn.preprocessing.LabelEncoder()\n",
    "# le.fit(Y_test.append(Y_train))"
   ]
  },
  {
   "cell_type": "code",
   "execution_count": 109,
   "metadata": {
    "collapsed": true
   },
   "outputs": [],
   "source": [
    "# Y_train_digits = le.transform(Y_train)"
   ]
  },
  {
   "cell_type": "code",
   "execution_count": 110,
   "metadata": {
    "collapsed": true
   },
   "outputs": [],
   "source": [
    "# catboost = CatBoostClassifier(iterations=2, depth=2, learning_rate=1, loss_function='Logloss', verbose=True)\n",
    "# catboost.fit(X_train_array, Y_train_digits, verbose=True, cat_features=None)\n",
    "\n",
    "# predicted = catboost.predict(X_test_array)"
   ]
  }
 ],
 "metadata": {
  "kernelspec": {
   "display_name": "Python 3",
   "language": "python",
   "name": "python3"
  },
  "language_info": {
   "codemirror_mode": {
    "name": "ipython",
    "version": 3
   },
   "file_extension": ".py",
   "mimetype": "text/x-python",
   "name": "python",
   "nbconvert_exporter": "python",
   "pygments_lexer": "ipython3",
   "version": "3.6.2"
  }
 },
 "nbformat": 4,
 "nbformat_minor": 2
}
