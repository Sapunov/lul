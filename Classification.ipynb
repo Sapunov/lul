{
 "cells": [
  {
   "cell_type": "code",
   "execution_count": 99,
   "metadata": {
    "collapsed": true
   },
   "outputs": [],
   "source": [
    "import pandas as pd\n",
    "import sklearn\n",
    "import re\n",
    "import numpy as np\n",
    "\n",
    "from nltk.tokenize import word_tokenize\n",
    "from nltk.corpus import stopwords\n",
    "from nltk.stem import SnowballStemmer\n",
    "\n",
    "from sklearn.feature_extraction.text import TfidfTransformer\n",
    "from sklearn.feature_extraction.text import CountVectorizer\n",
    "\n",
    "from sklearn.naive_bayes import MultinomialNB"
   ]
  },
  {
   "cell_type": "code",
   "execution_count": 100,
   "metadata": {
    "collapsed": true
   },
   "outputs": [],
   "source": [
    "data = pd.read_csv(\"./messages/30_09_2017_19_37.csv\", delimiter=\";\")"
   ]
  },
  {
   "cell_type": "code",
   "execution_count": 101,
   "metadata": {
    "collapsed": true
   },
   "outputs": [],
   "source": [
    "stemmer = SnowballStemmer(\"russian\")\n",
    "\n",
    "def stem(string):\n",
    "    \n",
    "    tokens = [stemmer.stem(token) for token in word_tokenize(string)]\n",
    "\n",
    "    return \" \".join(tokens)"
   ]
  },
  {
   "cell_type": "code",
   "execution_count": 102,
   "metadata": {},
   "outputs": [],
   "source": [
    "synonyms = {\n",
    "        \"зарплата\": [\"зп\"],\n",
    "        \"электричка\": [\"элка\"]\n",
    "    }\n",
    "\n",
    "replace_map = {}\n",
    "\n",
    "for key, value in synonyms.items():\n",
    "    for syn in value:\n",
    "        replace_map[stem(syn)] = stem(key)\n",
    "\n",
    "def replace_synonyms(string):\n",
    "    \n",
    "    tokens = word_tokenize(string)\n",
    "    \n",
    "    for i in range(len(tokens)):\n",
    "        tokens[i] = replace_map.get(tokens[i], tokens[i])\n",
    "    \n",
    "    \n",
    "    return \" \".join(tokens)"
   ]
  },
  {
   "cell_type": "code",
   "execution_count": 103,
   "metadata": {
    "collapsed": true
   },
   "outputs": [],
   "source": [
    "def replace_numbers(string, replace_on=\"NUM\"):\n",
    "    \n",
    "    return re.sub(r\"([0-9]+)(\\.[0-9]+)?\", replace_on, string)"
   ]
  },
  {
   "cell_type": "code",
   "execution_count": 104,
   "metadata": {},
   "outputs": [],
   "source": [
    "def replace_letterdigits(string):\n",
    "    \n",
    "    tokens = word_tokenize(string)\n",
    "    \n",
    "    for i in range(len(tokens)):\n",
    "        match = re.match(r\"^(([0-9]+)(\\.[0-9]+)?)(k|к)$\", tokens[i], re.UNICODE)\n",
    "        \n",
    "        if match:\n",
    "            tokens[i] = str(int(float(match.group(1)) * 1000))\n",
    "    \n",
    "    return \" \".join(tokens)"
   ]
  },
  {
   "cell_type": "code",
   "execution_count": 105,
   "metadata": {
    "collapsed": true
   },
   "outputs": [],
   "source": [
    "russian_stopwords = stopwords.words(\"russian\")\n",
    "\n",
    "def delete_stopwords(string):\n",
    "    \n",
    "    tokens = word_tokenize(string)\n",
    "    \n",
    "    for token in tokens:\n",
    "        if token in russian_stopwords:\n",
    "            tokens.remove(token)\n",
    "    \n",
    "    return \" \".join(tokens)"
   ]
  },
  {
   "cell_type": "code",
   "execution_count": 106,
   "metadata": {
    "collapsed": true
   },
   "outputs": [],
   "source": [
    "def print_conf_matrix(y_test, y_predicted, categories):\n",
    "    \n",
    "    ma = sklearn.metrics.confusion_matrix(y_test, y_predicted).astype(str)\n",
    "    ma = np.insert(ma, 0, categories, axis=1)\n",
    "    ma = np.insert(ma, 0, [\"\"] + categories, axis=0)\n",
    "    \n",
    "    for row in range(ma.shape[0]):\n",
    "        for col in range(ma.shape[1]):\n",
    "            if col != row and ma[row, col] != \"0\" and col > 0 and row > 0:\n",
    "                print(\"{0:<10}\".format(\"<\" + ma[row, col] + \">\"), end=\"\")\n",
    "            else:\n",
    "                print(\"{0:<10}\".format(ma[row, col]), end=\"\")\n",
    "        print()"
   ]
  },
  {
   "cell_type": "code",
   "execution_count": 107,
   "metadata": {
    "collapsed": true
   },
   "outputs": [],
   "source": [
    "def print_scores(y_test, y_predicted, categories):\n",
    "    \n",
    "    print(\"Accuracy: {0}\".format(sklearn.metrics.accuracy_score(y_test, y_predicted)), end=\"\\n\\n\")\n",
    "    \n",
    "    print(\" \" * 15, end=\"\")\n",
    "    for cat in categories:\n",
    "        print(\"{0:<10}\".format(cat), end=\"\")\n",
    "    \n",
    "    print(\"\\nPrecision:     \", end=\"\")\n",
    "    for digit in sklearn.metrics.precision_score(y_test, y_predicted, average=None):\n",
    "        print(\"{0:<10}\".format(round(digit, 3)), end=\"\")\n",
    "    \n",
    "    print(\"\\nRecall:        \", end=\"\")\n",
    "    for digit in sklearn.metrics.recall_score(y_test, y_predicted, average=None):\n",
    "        print(\"{0:<10}\".format(round(digit, 3)), end=\"\")\n",
    "        \n",
    "    print(\"\\nF1:            \", end=\"\")\n",
    "    for digit in sklearn.metrics.f1_score(y_test, y_predicted, average=None):\n",
    "        print(\"{0:<10}\".format(round(digit, 3)), end=\"\")"
   ]
  },
  {
   "cell_type": "code",
   "execution_count": 108,
   "metadata": {
    "collapsed": true
   },
   "outputs": [],
   "source": [
    "data.loc[:, \"message\"] = data[\"message\"].apply(str.lower).apply(replace_letterdigits)"
   ]
  },
  {
   "cell_type": "code",
   "execution_count": 109,
   "metadata": {
    "collapsed": true
   },
   "outputs": [],
   "source": [
    "data[\"message_no_num\"] = data[\"message\"].apply(replace_numbers)"
   ]
  },
  {
   "cell_type": "code",
   "execution_count": 110,
   "metadata": {
    "collapsed": true
   },
   "outputs": [],
   "source": [
    "data[\"message_no_stopwords\"] = data[\"message_no_num\"].apply(delete_stopwords)"
   ]
  },
  {
   "cell_type": "code",
   "execution_count": 111,
   "metadata": {},
   "outputs": [],
   "source": [
    "data[\"message_stem\"] = data[\"message_no_stopwords\"].apply(stem)"
   ]
  },
  {
   "cell_type": "code",
   "execution_count": 112,
   "metadata": {
    "collapsed": true
   },
   "outputs": [],
   "source": [
    "data[\"message_synonyms\"] = data[\"message_stem\"].apply(replace_synonyms)"
   ]
  },
  {
   "cell_type": "code",
   "execution_count": 113,
   "metadata": {},
   "outputs": [
    {
     "name": "stdout",
     "output_type": "stream",
     "text": [
      "(266, 6)\n"
     ]
    },
    {
     "data": {
      "text/html": [
       "<div>\n",
       "<style>\n",
       "    .dataframe thead tr:only-child th {\n",
       "        text-align: right;\n",
       "    }\n",
       "\n",
       "    .dataframe thead th {\n",
       "        text-align: left;\n",
       "    }\n",
       "\n",
       "    .dataframe tbody tr th {\n",
       "        vertical-align: top;\n",
       "    }\n",
       "</style>\n",
       "<table border=\"1\" class=\"dataframe\">\n",
       "  <thead>\n",
       "    <tr style=\"text-align: right;\">\n",
       "      <th></th>\n",
       "      <th>message</th>\n",
       "      <th>category</th>\n",
       "      <th>message_no_num</th>\n",
       "      <th>message_no_stopwords</th>\n",
       "      <th>message_stem</th>\n",
       "      <th>message_synonyms</th>\n",
       "    </tr>\n",
       "  </thead>\n",
       "  <tbody>\n",
       "    <tr>\n",
       "      <th>0</th>\n",
       "      <td>23800 доплаты за отпуска в крок</td>\n",
       "      <td>income</td>\n",
       "      <td>NUM доплаты за отпуска в крок</td>\n",
       "      <td>NUM доплаты отпуска крок</td>\n",
       "      <td>NUM доплат отпуск крок</td>\n",
       "      <td>NUM доплат отпуск крок</td>\n",
       "    </tr>\n",
       "    <tr>\n",
       "      <th>1</th>\n",
       "      <td>54782.52 зарплата</td>\n",
       "      <td>income</td>\n",
       "      <td>NUM зарплата</td>\n",
       "      <td>NUM зарплата</td>\n",
       "      <td>NUM зарплат</td>\n",
       "      <td>NUM зарплат</td>\n",
       "    </tr>\n",
       "    <tr>\n",
       "      <th>2</th>\n",
       "      <td>6086.5 зарплата</td>\n",
       "      <td>income</td>\n",
       "      <td>NUM зарплата</td>\n",
       "      <td>NUM зарплата</td>\n",
       "      <td>NUM зарплат</td>\n",
       "      <td>NUM зарплат</td>\n",
       "    </tr>\n",
       "    <tr>\n",
       "      <th>3</th>\n",
       "      <td>1500 кошулька дала немного денег</td>\n",
       "      <td>income</td>\n",
       "      <td>NUM кошулька дала немного денег</td>\n",
       "      <td>NUM кошулька дала немного денег</td>\n",
       "      <td>NUM кошульк дал немн денег</td>\n",
       "      <td>NUM кошульк дал немн денег</td>\n",
       "    </tr>\n",
       "    <tr>\n",
       "      <th>4</th>\n",
       "      <td>зп 36000</td>\n",
       "      <td>income</td>\n",
       "      <td>зп NUM</td>\n",
       "      <td>зп NUM</td>\n",
       "      <td>зп NUM</td>\n",
       "      <td>зарплат NUM</td>\n",
       "    </tr>\n",
       "  </tbody>\n",
       "</table>\n",
       "</div>"
      ],
      "text/plain": [
       "                            message category                   message_no_num  \\\n",
       "0   23800 доплаты за отпуска в крок   income    NUM доплаты за отпуска в крок   \n",
       "1                 54782.52 зарплата   income                     NUM зарплата   \n",
       "2                   6086.5 зарплата   income                     NUM зарплата   \n",
       "3  1500 кошулька дала немного денег   income  NUM кошулька дала немного денег   \n",
       "4                          зп 36000   income                           зп NUM   \n",
       "\n",
       "              message_no_stopwords                message_stem  \\\n",
       "0         NUM доплаты отпуска крок      NUM доплат отпуск крок   \n",
       "1                     NUM зарплата                 NUM зарплат   \n",
       "2                     NUM зарплата                 NUM зарплат   \n",
       "3  NUM кошулька дала немного денег  NUM кошульк дал немн денег   \n",
       "4                           зп NUM                      зп NUM   \n",
       "\n",
       "             message_synonyms  \n",
       "0      NUM доплат отпуск крок  \n",
       "1                 NUM зарплат  \n",
       "2                 NUM зарплат  \n",
       "3  NUM кошульк дал немн денег  \n",
       "4                 зарплат NUM  "
      ]
     },
     "execution_count": 113,
     "metadata": {},
     "output_type": "execute_result"
    }
   ],
   "source": [
    "print(data.shape)\n",
    "data.head()"
   ]
  },
  {
   "cell_type": "code",
   "execution_count": 114,
   "metadata": {
    "collapsed": true
   },
   "outputs": [],
   "source": [
    "X = data[\"message_stem\"]\n",
    "Y = data[\"category\"]"
   ]
  },
  {
   "cell_type": "code",
   "execution_count": 115,
   "metadata": {},
   "outputs": [
    {
     "data": {
      "text/plain": [
       "(266, 165)"
      ]
     },
     "execution_count": 115,
     "metadata": {},
     "output_type": "execute_result"
    }
   ],
   "source": [
    "count_vectorizer = CountVectorizer()\n",
    "X_count = count_vectorizer.fit_transform(X)\n",
    "X_count.shape"
   ]
  },
  {
   "cell_type": "code",
   "execution_count": 116,
   "metadata": {},
   "outputs": [
    {
     "data": {
      "text/plain": [
       "(266, 165)"
      ]
     },
     "execution_count": 116,
     "metadata": {},
     "output_type": "execute_result"
    }
   ],
   "source": [
    "tfidf = TfidfTransformer()\n",
    "X_tfidf = tfidf.fit_transform(X_count)\n",
    "X_tfidf.shape"
   ]
  },
  {
   "cell_type": "code",
   "execution_count": 117,
   "metadata": {
    "collapsed": true
   },
   "outputs": [],
   "source": [
    "X_train, X_test, Y_train, Y_test = sklearn.model_selection.train_test_split(X_tfidf, Y, test_size=0.3, random_state=16)"
   ]
  },
  {
   "cell_type": "markdown",
   "metadata": {},
   "source": [
    "#### Наивный Байес"
   ]
  },
  {
   "cell_type": "code",
   "execution_count": 118,
   "metadata": {
    "collapsed": true
   },
   "outputs": [],
   "source": [
    "bayes = MultinomialNB(alpha=0.01)\n",
    "bayes.fit(X_train, Y_train)\n",
    "\n",
    "predicted = bayes.predict(X_test)"
   ]
  },
  {
   "cell_type": "code",
   "execution_count": 119,
   "metadata": {},
   "outputs": [
    {
     "name": "stdout",
     "output_type": "stream",
     "text": [
      "Accuracy: 0.8375\n",
      "\n",
      "               event     income    other     outcome   timespend weight    \n",
      "Precision:     1.0       0.6       0.0       0.983     1.0       0.091     \n",
      "Recall:        0.5       0.75      0.0       0.851     1.0       1.0       \n",
      "F1:            0.667     0.667     0.0       0.912     1.0       0.167     \n",
      "\n",
      "\n",
      "Confusion matrix:\n",
      "\n",
      "          event     income    other     outcome   timespend weight    \n",
      "event     1         <1>       0         0         0         0         \n",
      "income    0         3         0         <1>       0         0         \n",
      "other     0         0         0         0         0         <1>       \n",
      "outcome   0         <1>       0         57        0         <9>       \n",
      "timespend 0         0         0         0         5         0         \n",
      "weight    0         0         0         0         0         1         \n"
     ]
    },
    {
     "name": "stderr",
     "output_type": "stream",
     "text": [
      "/usr/local/lib/python3.6/site-packages/sklearn/metrics/classification.py:1135: UndefinedMetricWarning: Precision is ill-defined and being set to 0.0 in labels with no predicted samples.\n",
      "  'precision', 'predicted', average, warn_for)\n",
      "/usr/local/lib/python3.6/site-packages/sklearn/metrics/classification.py:1135: UndefinedMetricWarning: F-score is ill-defined and being set to 0.0 in labels with no predicted samples.\n",
      "  'precision', 'predicted', average, warn_for)\n"
     ]
    }
   ],
   "source": [
    "print_scores(Y_test, predicted, bayes.classes_.tolist())\n",
    "print(\"\\n\\n\\nConfusion matrix:\\n\")\n",
    "print_conf_matrix(Y_test, predicted, bayes.classes_.tolist())"
   ]
  },
  {
   "cell_type": "markdown",
   "metadata": {},
   "source": [
    "#### SVM"
   ]
  },
  {
   "cell_type": "code",
   "execution_count": 90,
   "metadata": {
    "collapsed": true
   },
   "outputs": [],
   "source": [
    "svm = sklearn.linear_model.SGDClassifier(loss=\"hinge\", alpha=1e-3, max_iter=5)\n",
    "svm.fit(X_train, Y_train)\n",
    "\n",
    "predicted = svm.predict(X_test)"
   ]
  },
  {
   "cell_type": "code",
   "execution_count": 91,
   "metadata": {},
   "outputs": [
    {
     "name": "stdout",
     "output_type": "stream",
     "text": [
      "Accuracy: 0.925\n",
      "\n",
      "               event     income    other     outcome   timespend weight    \n",
      "Precision:     1.0       1.0       0.0       0.918     1.0       1.0       \n",
      "Recall:        0.5       0.25      0.0       1.0       0.8       1.0       \n",
      "F1:            0.667     0.4       0.0       0.957     0.889     1.0       \n",
      "\n",
      "\n",
      "Confusion matrix:\n",
      "\n",
      "          event     income    other     outcome   timespend weight    \n",
      "event     1         0         0         <1>       0         0         \n",
      "income    0         1         0         <3>       0         0         \n",
      "other     0         0         0         <1>       0         0         \n",
      "outcome   0         0         0         67        0         0         \n",
      "timespend 0         0         0         <1>       4         0         \n",
      "weight    0         0         0         0         0         1         \n"
     ]
    },
    {
     "name": "stderr",
     "output_type": "stream",
     "text": [
      "/usr/local/lib/python3.6/site-packages/sklearn/metrics/classification.py:1135: UndefinedMetricWarning: Precision is ill-defined and being set to 0.0 in labels with no predicted samples.\n",
      "  'precision', 'predicted', average, warn_for)\n",
      "/usr/local/lib/python3.6/site-packages/sklearn/metrics/classification.py:1135: UndefinedMetricWarning: F-score is ill-defined and being set to 0.0 in labels with no predicted samples.\n",
      "  'precision', 'predicted', average, warn_for)\n"
     ]
    }
   ],
   "source": [
    "print_scores(Y_test, predicted, bayes.classes_.tolist())\n",
    "print(\"\\n\\n\\nConfusion matrix:\\n\")\n",
    "print_conf_matrix(Y_test, predicted, bayes.classes_.tolist())"
   ]
  }
 ],
 "metadata": {
  "kernelspec": {
   "display_name": "Python 3",
   "language": "python",
   "name": "python3"
  },
  "language_info": {
   "codemirror_mode": {
    "name": "ipython",
    "version": 3
   },
   "file_extension": ".py",
   "mimetype": "text/x-python",
   "name": "python",
   "nbconvert_exporter": "python",
   "pygments_lexer": "ipython3",
   "version": "3.6.2"
  }
 },
 "nbformat": 4,
 "nbformat_minor": 2
}
