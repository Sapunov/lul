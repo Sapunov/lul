{
 "cells": [
  {
   "cell_type": "code",
   "execution_count": 200,
   "metadata": {},
   "outputs": [],
   "source": [
    "import pandas as pd\n",
    "import sklearn\n",
    "import numpy as np\n",
    "\n",
    "from nltk.corpus import stopwords\n",
    "from nltk.tokenize import word_tokenize\n",
    "from nltk.stem import SnowballStemmer\n",
    "from pymorphy2 import MorphAnalyzer\n",
    "\n",
    "from sklearn.feature_extraction.text import TfidfTransformer\n",
    "from sklearn.feature_extraction.text import CountVectorizer\n",
    "\n",
    "from sklearn.naive_bayes import MultinomialNB\n",
    "\n",
    "from catboost import CatBoostClassifier\n",
    "\n",
    "from sklearn.ensemble import RandomForestClassifier\n",
    "\n",
    "import common\n",
    "import extractors\n",
    "import constants"
   ]
  },
  {
   "cell_type": "code",
   "execution_count": 3,
   "metadata": {
    "collapsed": true
   },
   "outputs": [],
   "source": [
    "morph = MorphAnalyzer()"
   ]
  },
  {
   "cell_type": "code",
   "execution_count": 81,
   "metadata": {
    "collapsed": true
   },
   "outputs": [],
   "source": [
    "stemmer = SnowballStemmer(\"russian\")\n",
    "\n",
    "def stem(string):\n",
    "    \n",
    "    tokens = [stemmer.stem(token) for token in word_tokenize(string)]\n",
    "\n",
    "    return \" \".join(tokens)"
   ]
  },
  {
   "cell_type": "code",
   "execution_count": 82,
   "metadata": {
    "collapsed": true
   },
   "outputs": [],
   "source": [
    "def first_form(string):\n",
    "    \n",
    "    tokens = word_tokenize(string)\n",
    "    \n",
    "    for i in range(len(tokens)):\n",
    "        if tokens[i].islower():\n",
    "            parse = morph.parse(tokens[i])\n",
    "            tokens[i] = parse[0].normal_form\n",
    "    \n",
    "    return \" \".join(tokens)"
   ]
  },
  {
   "cell_type": "code",
   "execution_count": 84,
   "metadata": {
    "collapsed": true
   },
   "outputs": [],
   "source": [
    "synonyms = {\n",
    "        \"зарплата\": [\"зп\"],\n",
    "        \"электричка\": [\"элка\"]\n",
    "    }\n",
    "\n",
    "replace_map = {}\n",
    "\n",
    "for key, value in synonyms.items():\n",
    "    for syn in value:\n",
    "        replace_map[first_form(syn)] = first_form(key)\n",
    "\n",
    "def replace_synonyms(string):\n",
    "    \n",
    "    tokens = word_tokenize(string)\n",
    "    \n",
    "    for i, token in enumerate(tokens):\n",
    "        tokens[i] = replace_map.get(token, token)\n",
    "    \n",
    "    \n",
    "    return \" \".join(tokens)"
   ]
  },
  {
   "cell_type": "code",
   "execution_count": 85,
   "metadata": {
    "collapsed": true
   },
   "outputs": [],
   "source": [
    "russian_stopwords = stopwords.words(\"russian\")\n",
    "\n",
    "def delete_stopwords(string):\n",
    "    \n",
    "    tokens = word_tokenize(string)\n",
    "    \n",
    "    for token in tokens:\n",
    "        if token in russian_stopwords:\n",
    "            tokens.remove(token)\n",
    "    \n",
    "    return \" \".join(tokens)"
   ]
  },
  {
   "cell_type": "code",
   "execution_count": 86,
   "metadata": {
    "collapsed": true
   },
   "outputs": [],
   "source": [
    "def print_conf_matrix(y_test, y_predicted, categories):\n",
    "    \n",
    "    ma = sklearn.metrics.confusion_matrix(y_test, y_predicted).astype(str)\n",
    "    ma = np.insert(ma, 0, categories, axis=1)\n",
    "    ma = np.insert(ma, 0, [\"\"] + categories, axis=0)\n",
    "    \n",
    "    for row in range(ma.shape[0]):\n",
    "        for col in range(ma.shape[1]):\n",
    "            if col != row and ma[row, col] != \"0\" and col > 0 and row > 0:\n",
    "                print(\"{0:<10}\".format(\"<\" + ma[row, col] + \">\"), end=\"\")\n",
    "            else:\n",
    "                print(\"{0:<10}\".format(ma[row, col]), end=\"\")\n",
    "        print()"
   ]
  },
  {
   "cell_type": "code",
   "execution_count": 87,
   "metadata": {
    "collapsed": true
   },
   "outputs": [],
   "source": [
    "def print_scores(y_test, y_predicted, categories):\n",
    "    \n",
    "    print(\"Accuracy: {0}\".format(sklearn.metrics.accuracy_score(y_test, y_predicted)), end=\"\\n\\n\")\n",
    "    \n",
    "    print(\" \" * 15, end=\"\")\n",
    "    for cat in categories:\n",
    "        print(\"{0:<10}\".format(cat), end=\"\")\n",
    "    \n",
    "    print(\"\\nPrecision:     \", end=\"\")\n",
    "    for digit in sklearn.metrics.precision_score(y_test, y_predicted, average=None):\n",
    "        print(\"{0:<10}\".format(round(digit, 3)), end=\"\")\n",
    "    \n",
    "    print(\"\\nRecall:        \", end=\"\")\n",
    "    for digit in sklearn.metrics.recall_score(y_test, y_predicted, average=None):\n",
    "        print(\"{0:<10}\".format(round(digit, 3)), end=\"\")\n",
    "        \n",
    "    print(\"\\nF1:            \", end=\"\")\n",
    "    for digit in sklearn.metrics.f1_score(y_test, y_predicted, average=None):\n",
    "        print(\"{0:<10}\".format(round(digit, 3)), end=\"\")"
   ]
  },
  {
   "cell_type": "code",
   "execution_count": 88,
   "metadata": {
    "collapsed": true
   },
   "outputs": [],
   "source": [
    "data = pd.read_csv(\"./messages/30_09_2017_19_37.csv\", delimiter=\";\")"
   ]
  },
  {
   "cell_type": "code",
   "execution_count": 89,
   "metadata": {},
   "outputs": [],
   "source": [
    "data.loc[:, \"message\"] = data[\"message\"].apply(str.lower).apply(common.replace_letterdigits)\n",
    "data.loc[:, \"message\"] = data[\"message\"].apply(common.delete_punctuation)"
   ]
  },
  {
   "cell_type": "code",
   "execution_count": 90,
   "metadata": {},
   "outputs": [],
   "source": [
    "data[\"timepointer\"] = data[\"message\"].apply(common.replace_timepointer)"
   ]
  },
  {
   "cell_type": "code",
   "execution_count": 91,
   "metadata": {
    "collapsed": true
   },
   "outputs": [],
   "source": [
    "data[\"datepointer\"] = data[\"timepointer\"].apply(common.replace_datepointer)"
   ]
  },
  {
   "cell_type": "code",
   "execution_count": 92,
   "metadata": {
    "collapsed": true
   },
   "outputs": [],
   "source": [
    "data[\"weightpointer\"] = data[\"datepointer\"].apply(common.replace_weightpointer)"
   ]
  },
  {
   "cell_type": "code",
   "execution_count": 93,
   "metadata": {
    "collapsed": true
   },
   "outputs": [],
   "source": [
    "data[\"no_num\"] = data[\"weightpointer\"].apply(common.replace_numbers)"
   ]
  },
  {
   "cell_type": "code",
   "execution_count": 94,
   "metadata": {
    "collapsed": true
   },
   "outputs": [],
   "source": [
    "data[\"no_stopwords\"] = data[\"no_num\"].apply(delete_stopwords)"
   ]
  },
  {
   "cell_type": "code",
   "execution_count": 95,
   "metadata": {
    "collapsed": true
   },
   "outputs": [],
   "source": [
    "data[\"first_form\"] = data[\"no_stopwords\"].apply(first_form)"
   ]
  },
  {
   "cell_type": "code",
   "execution_count": 96,
   "metadata": {
    "collapsed": true
   },
   "outputs": [],
   "source": [
    "data[\"synonyms\"] = data[\"first_form\"].apply(replace_synonyms)"
   ]
  },
  {
   "cell_type": "code",
   "execution_count": 97,
   "metadata": {},
   "outputs": [
    {
     "name": "stdout",
     "output_type": "stream",
     "text": [
      "(266, 9)\n"
     ]
    },
    {
     "data": {
      "text/html": [
       "<div>\n",
       "<style>\n",
       "    .dataframe thead tr:only-child th {\n",
       "        text-align: right;\n",
       "    }\n",
       "\n",
       "    .dataframe thead th {\n",
       "        text-align: left;\n",
       "    }\n",
       "\n",
       "    .dataframe tbody tr th {\n",
       "        vertical-align: top;\n",
       "    }\n",
       "</style>\n",
       "<table border=\"1\" class=\"dataframe\">\n",
       "  <thead>\n",
       "    <tr style=\"text-align: right;\">\n",
       "      <th></th>\n",
       "      <th>message</th>\n",
       "      <th>category</th>\n",
       "      <th>timepointer</th>\n",
       "      <th>datepointer</th>\n",
       "      <th>weightpointer</th>\n",
       "      <th>no_num</th>\n",
       "      <th>no_stopwords</th>\n",
       "      <th>first_form</th>\n",
       "      <th>synonyms</th>\n",
       "    </tr>\n",
       "  </thead>\n",
       "  <tbody>\n",
       "    <tr>\n",
       "      <th>0</th>\n",
       "      <td>23800 доплаты за отпуска в крок</td>\n",
       "      <td>income</td>\n",
       "      <td>23800 доплаты за отпуска в крок</td>\n",
       "      <td>23800 доплаты за отпуска в крок</td>\n",
       "      <td>23800 доплаты за отпуска в крок</td>\n",
       "      <td>NUM доплаты за отпуска в крок</td>\n",
       "      <td>NUM доплаты отпуска крок</td>\n",
       "      <td>NUM доплата отпуск крок</td>\n",
       "      <td>NUM доплата отпуск крок</td>\n",
       "    </tr>\n",
       "    <tr>\n",
       "      <th>1</th>\n",
       "      <td>54782.52 зарплата</td>\n",
       "      <td>income</td>\n",
       "      <td>54782.52 зарплата</td>\n",
       "      <td>54782.52 зарплата</td>\n",
       "      <td>54782.52 зарплата</td>\n",
       "      <td>NUM зарплата</td>\n",
       "      <td>NUM зарплата</td>\n",
       "      <td>NUM зарплата</td>\n",
       "      <td>NUM зарплата</td>\n",
       "    </tr>\n",
       "    <tr>\n",
       "      <th>2</th>\n",
       "      <td>6086.5 зарплата</td>\n",
       "      <td>income</td>\n",
       "      <td>6086.5 зарплата</td>\n",
       "      <td>6086.5 зарплата</td>\n",
       "      <td>6086.5 зарплата</td>\n",
       "      <td>NUM зарплата</td>\n",
       "      <td>NUM зарплата</td>\n",
       "      <td>NUM зарплата</td>\n",
       "      <td>NUM зарплата</td>\n",
       "    </tr>\n",
       "    <tr>\n",
       "      <th>3</th>\n",
       "      <td>1500 кошулька дала немного денег</td>\n",
       "      <td>income</td>\n",
       "      <td>1500 кошулька дала немного денег</td>\n",
       "      <td>1500 кошулька дала немного денег</td>\n",
       "      <td>1500 кошулька дала немного денег</td>\n",
       "      <td>NUM кошулька дала немного денег</td>\n",
       "      <td>NUM кошулька дала немного денег</td>\n",
       "      <td>NUM кошулька дать немного деньга</td>\n",
       "      <td>NUM кошулька дать немного деньга</td>\n",
       "    </tr>\n",
       "    <tr>\n",
       "      <th>4</th>\n",
       "      <td>зп 36000</td>\n",
       "      <td>income</td>\n",
       "      <td>зп 36000</td>\n",
       "      <td>зп 36000</td>\n",
       "      <td>зп 36000</td>\n",
       "      <td>зп NUM</td>\n",
       "      <td>зп NUM</td>\n",
       "      <td>зп NUM</td>\n",
       "      <td>зарплата NUM</td>\n",
       "    </tr>\n",
       "    <tr>\n",
       "      <th>5</th>\n",
       "      <td>9 сентября олег дал 30000</td>\n",
       "      <td>income</td>\n",
       "      <td>9 сентября олег дал 30000</td>\n",
       "      <td>DATEPOINTER олег дал 30000</td>\n",
       "      <td>DATEPOINTER олег дал 30000</td>\n",
       "      <td>DATEPOINTER олег дал NUM</td>\n",
       "      <td>DATEPOINTER олег дал NUM</td>\n",
       "      <td>DATEPOINTER олег дать NUM</td>\n",
       "      <td>DATEPOINTER олег дать NUM</td>\n",
       "    </tr>\n",
       "    <tr>\n",
       "      <th>6</th>\n",
       "      <td>ещё зп 4000</td>\n",
       "      <td>income</td>\n",
       "      <td>ещё зп 4000</td>\n",
       "      <td>ещё зп 4000</td>\n",
       "      <td>ещё зп 4000</td>\n",
       "      <td>ещё зп NUM</td>\n",
       "      <td>ещё зп NUM</td>\n",
       "      <td>ещё зп NUM</td>\n",
       "      <td>ещё зарплата NUM</td>\n",
       "    </tr>\n",
       "    <tr>\n",
       "      <th>7</th>\n",
       "      <td>вчера ходил в бассейн проплыл 600 метров</td>\n",
       "      <td>other</td>\n",
       "      <td>вчера ходил в бассейн проплыл 600 метров</td>\n",
       "      <td>DATEPOINTER ходил в бассейн проплыл 600 метров</td>\n",
       "      <td>DATEPOINTER ходил в бассейн проплыл 600 метров</td>\n",
       "      <td>DATEPOINTER ходил в бассейн проплыл NUM метров</td>\n",
       "      <td>DATEPOINTER ходил бассейн проплыл NUM метров</td>\n",
       "      <td>DATEPOINTER ходить бассейн проплыть NUM метр</td>\n",
       "      <td>DATEPOINTER ходить бассейн проплыть NUM метр</td>\n",
       "    </tr>\n",
       "    <tr>\n",
       "      <th>8</th>\n",
       "      <td>вес вчера 74.7</td>\n",
       "      <td>weight</td>\n",
       "      <td>вес вчера 74.7</td>\n",
       "      <td>вес DATEPOINTER 74.7</td>\n",
       "      <td>WEIGHTPOINTER DATEPOINTER</td>\n",
       "      <td>WEIGHTPOINTER DATEPOINTER</td>\n",
       "      <td>WEIGHTPOINTER DATEPOINTER</td>\n",
       "      <td>WEIGHTPOINTER DATEPOINTER</td>\n",
       "      <td>WEIGHTPOINTER DATEPOINTER</td>\n",
       "    </tr>\n",
       "    <tr>\n",
       "      <th>9</th>\n",
       "      <td>сегодня читаю три товарища</td>\n",
       "      <td>event</td>\n",
       "      <td>сегодня читаю три товарища</td>\n",
       "      <td>DATEPOINTER читаю три товарища</td>\n",
       "      <td>DATEPOINTER читаю три товарища</td>\n",
       "      <td>DATEPOINTER читаю три товарища</td>\n",
       "      <td>DATEPOINTER читаю товарища</td>\n",
       "      <td>DATEPOINTER читать товарищ</td>\n",
       "      <td>DATEPOINTER читать товарищ</td>\n",
       "    </tr>\n",
       "  </tbody>\n",
       "</table>\n",
       "</div>"
      ],
      "text/plain": [
       "                                    message category  \\\n",
       "0           23800 доплаты за отпуска в крок   income   \n",
       "1                         54782.52 зарплата   income   \n",
       "2                           6086.5 зарплата   income   \n",
       "3          1500 кошулька дала немного денег   income   \n",
       "4                                  зп 36000   income   \n",
       "5                 9 сентября олег дал 30000   income   \n",
       "6                               ещё зп 4000   income   \n",
       "7  вчера ходил в бассейн проплыл 600 метров    other   \n",
       "8                            вес вчера 74.7   weight   \n",
       "9                сегодня читаю три товарища    event   \n",
       "\n",
       "                                timepointer  \\\n",
       "0           23800 доплаты за отпуска в крок   \n",
       "1                         54782.52 зарплата   \n",
       "2                           6086.5 зарплата   \n",
       "3          1500 кошулька дала немного денег   \n",
       "4                                  зп 36000   \n",
       "5                 9 сентября олег дал 30000   \n",
       "6                               ещё зп 4000   \n",
       "7  вчера ходил в бассейн проплыл 600 метров   \n",
       "8                            вес вчера 74.7   \n",
       "9                сегодня читаю три товарища   \n",
       "\n",
       "                                      datepointer  \\\n",
       "0                 23800 доплаты за отпуска в крок   \n",
       "1                               54782.52 зарплата   \n",
       "2                                 6086.5 зарплата   \n",
       "3                1500 кошулька дала немного денег   \n",
       "4                                        зп 36000   \n",
       "5                      DATEPOINTER олег дал 30000   \n",
       "6                                     ещё зп 4000   \n",
       "7  DATEPOINTER ходил в бассейн проплыл 600 метров   \n",
       "8                            вес DATEPOINTER 74.7   \n",
       "9                  DATEPOINTER читаю три товарища   \n",
       "\n",
       "                                    weightpointer  \\\n",
       "0                 23800 доплаты за отпуска в крок   \n",
       "1                               54782.52 зарплата   \n",
       "2                                 6086.5 зарплата   \n",
       "3                1500 кошулька дала немного денег   \n",
       "4                                        зп 36000   \n",
       "5                      DATEPOINTER олег дал 30000   \n",
       "6                                     ещё зп 4000   \n",
       "7  DATEPOINTER ходил в бассейн проплыл 600 метров   \n",
       "8                      WEIGHTPOINTER DATEPOINTER    \n",
       "9                  DATEPOINTER читаю три товарища   \n",
       "\n",
       "                                           no_num  \\\n",
       "0                   NUM доплаты за отпуска в крок   \n",
       "1                                    NUM зарплата   \n",
       "2                                    NUM зарплата   \n",
       "3                 NUM кошулька дала немного денег   \n",
       "4                                          зп NUM   \n",
       "5                        DATEPOINTER олег дал NUM   \n",
       "6                                      ещё зп NUM   \n",
       "7  DATEPOINTER ходил в бассейн проплыл NUM метров   \n",
       "8                      WEIGHTPOINTER DATEPOINTER    \n",
       "9                  DATEPOINTER читаю три товарища   \n",
       "\n",
       "                                   no_stopwords  \\\n",
       "0                      NUM доплаты отпуска крок   \n",
       "1                                  NUM зарплата   \n",
       "2                                  NUM зарплата   \n",
       "3               NUM кошулька дала немного денег   \n",
       "4                                        зп NUM   \n",
       "5                      DATEPOINTER олег дал NUM   \n",
       "6                                    ещё зп NUM   \n",
       "7  DATEPOINTER ходил бассейн проплыл NUM метров   \n",
       "8                     WEIGHTPOINTER DATEPOINTER   \n",
       "9                    DATEPOINTER читаю товарища   \n",
       "\n",
       "                                     first_form  \\\n",
       "0                       NUM доплата отпуск крок   \n",
       "1                                  NUM зарплата   \n",
       "2                                  NUM зарплата   \n",
       "3              NUM кошулька дать немного деньга   \n",
       "4                                        зп NUM   \n",
       "5                     DATEPOINTER олег дать NUM   \n",
       "6                                    ещё зп NUM   \n",
       "7  DATEPOINTER ходить бассейн проплыть NUM метр   \n",
       "8                     WEIGHTPOINTER DATEPOINTER   \n",
       "9                    DATEPOINTER читать товарищ   \n",
       "\n",
       "                                       synonyms  \n",
       "0                       NUM доплата отпуск крок  \n",
       "1                                  NUM зарплата  \n",
       "2                                  NUM зарплата  \n",
       "3              NUM кошулька дать немного деньга  \n",
       "4                                  зарплата NUM  \n",
       "5                     DATEPOINTER олег дать NUM  \n",
       "6                              ещё зарплата NUM  \n",
       "7  DATEPOINTER ходить бассейн проплыть NUM метр  \n",
       "8                     WEIGHTPOINTER DATEPOINTER  \n",
       "9                    DATEPOINTER читать товарищ  "
      ]
     },
     "execution_count": 97,
     "metadata": {},
     "output_type": "execute_result"
    }
   ],
   "source": [
    "print(data.shape)\n",
    "data.head(10)"
   ]
  },
  {
   "cell_type": "code",
   "execution_count": 98,
   "metadata": {
    "collapsed": true
   },
   "outputs": [],
   "source": [
    "X = data[\"synonyms\"]\n",
    "Y = data[\"category\"]"
   ]
  },
  {
   "cell_type": "code",
   "execution_count": 99,
   "metadata": {},
   "outputs": [
    {
     "data": {
      "text/plain": [
       "(266, 159)"
      ]
     },
     "execution_count": 99,
     "metadata": {},
     "output_type": "execute_result"
    }
   ],
   "source": [
    "count_vectorizer = CountVectorizer()\n",
    "tfidf_vectorizer = TfidfTransformer()\n",
    "\n",
    "X_count = count_vectorizer.fit_transform(X)\n",
    "X_tfidf = tfidf_vectorizer.fit_transform(X_count)\n",
    "X_tfidf.shape"
   ]
  },
  {
   "cell_type": "code",
   "execution_count": 100,
   "metadata": {
    "collapsed": true
   },
   "outputs": [],
   "source": [
    "X_train, X_test, Y_train, Y_test = sklearn.model_selection.train_test_split(X_tfidf, Y, test_size=0.3, random_state=16)"
   ]
  },
  {
   "cell_type": "code",
   "execution_count": 101,
   "metadata": {
    "collapsed": true
   },
   "outputs": [],
   "source": [
    "X_train_text, X_test_text, *_ = sklearn.model_selection.train_test_split(X, Y, test_size=0.3, random_state=16)"
   ]
  },
  {
   "cell_type": "markdown",
   "metadata": {},
   "source": [
    "#### SVM"
   ]
  },
  {
   "cell_type": "code",
   "execution_count": 207,
   "metadata": {
    "collapsed": true
   },
   "outputs": [],
   "source": [
    "svm = sklearn.linear_model.SGDClassifier(loss=\"hinge\", alpha=1e-3, max_iter=5)\n",
    "svm.fit(X_train, Y_train)\n",
    "\n",
    "predicted = svm.predict(X_test)"
   ]
  },
  {
   "cell_type": "code",
   "execution_count": 208,
   "metadata": {},
   "outputs": [
    {
     "name": "stdout",
     "output_type": "stream",
     "text": [
      "Accuracy: 0.9375\n",
      "\n",
      "               event     income    other     outcome   timespend weight    \n",
      "Precision:     0.5       1.0       0.0       0.944     1.0       1.0       \n",
      "Recall:        0.5       0.25      0.0       1.0       1.0       1.0       \n",
      "F1:            0.5       0.4       0.0       0.971     1.0       1.0       \n",
      "\n",
      "\n",
      "Confusion matrix:\n",
      "\n",
      "          event     income    other     outcome   timespend weight    \n",
      "event     1         0         0         <1>       0         0         \n",
      "income    0         1         0         <3>       0         0         \n",
      "other     <1>       0         0         0         0         0         \n",
      "outcome   0         0         0         67        0         0         \n",
      "timespend 0         0         0         0         5         0         \n",
      "weight    0         0         0         0         0         1         \n"
     ]
    },
    {
     "name": "stderr",
     "output_type": "stream",
     "text": [
      "/usr/local/lib/python3.6/site-packages/sklearn/metrics/classification.py:1135: UndefinedMetricWarning: Precision is ill-defined and being set to 0.0 in labels with no predicted samples.\n",
      "  'precision', 'predicted', average, warn_for)\n",
      "/usr/local/lib/python3.6/site-packages/sklearn/metrics/classification.py:1135: UndefinedMetricWarning: F-score is ill-defined and being set to 0.0 in labels with no predicted samples.\n",
      "  'precision', 'predicted', average, warn_for)\n"
     ]
    }
   ],
   "source": [
    "classes = svm.classes_.tolist()\n",
    "\n",
    "print_scores(Y_test, predicted, classes)\n",
    "print(\"\\n\\n\\nConfusion matrix:\\n\")\n",
    "print_conf_matrix(Y_test, predicted, classes)"
   ]
  },
  {
   "cell_type": "markdown",
   "metadata": {},
   "source": [
    "##### Что именно не так классифицировалось"
   ]
  },
  {
   "cell_type": "code",
   "execution_count": 116,
   "metadata": {},
   "outputs": [
    {
     "data": {
      "text/html": [
       "<div>\n",
       "<style>\n",
       "    .dataframe thead tr:only-child th {\n",
       "        text-align: right;\n",
       "    }\n",
       "\n",
       "    .dataframe thead th {\n",
       "        text-align: left;\n",
       "    }\n",
       "\n",
       "    .dataframe tbody tr th {\n",
       "        vertical-align: top;\n",
       "    }\n",
       "</style>\n",
       "<table border=\"1\" class=\"dataframe\">\n",
       "  <thead>\n",
       "    <tr style=\"text-align: right;\">\n",
       "      <th></th>\n",
       "      <th>text</th>\n",
       "      <th>y_test</th>\n",
       "      <th>predicted</th>\n",
       "    </tr>\n",
       "  </thead>\n",
       "  <tbody>\n",
       "    <tr>\n",
       "      <th>7</th>\n",
       "      <td>DATEPOINTER ходить бассейн проплыть NUM метр</td>\n",
       "      <td>other</td>\n",
       "      <td>event</td>\n",
       "    </tr>\n",
       "    <tr>\n",
       "      <th>0</th>\n",
       "      <td>NUM доплата отпуск крок</td>\n",
       "      <td>income</td>\n",
       "      <td>outcome</td>\n",
       "    </tr>\n",
       "    <tr>\n",
       "      <th>10</th>\n",
       "      <td>сделать зарядка глаз</td>\n",
       "      <td>event</td>\n",
       "      <td>outcome</td>\n",
       "    </tr>\n",
       "    <tr>\n",
       "      <th>3</th>\n",
       "      <td>NUM кошулька дать немного деньга</td>\n",
       "      <td>income</td>\n",
       "      <td>outcome</td>\n",
       "    </tr>\n",
       "    <tr>\n",
       "      <th>5</th>\n",
       "      <td>DATEPOINTER олег дать NUM</td>\n",
       "      <td>income</td>\n",
       "      <td>outcome</td>\n",
       "    </tr>\n",
       "  </tbody>\n",
       "</table>\n",
       "</div>"
      ],
      "text/plain": [
       "                                            text  y_test predicted\n",
       "7   DATEPOINTER ходить бассейн проплыть NUM метр   other     event\n",
       "0                        NUM доплата отпуск крок  income   outcome\n",
       "10                          сделать зарядка глаз   event   outcome\n",
       "3               NUM кошулька дать немного деньга  income   outcome\n",
       "5                      DATEPOINTER олег дать NUM  income   outcome"
      ]
     },
     "execution_count": 116,
     "metadata": {},
     "output_type": "execute_result"
    }
   ],
   "source": [
    "results = pd.DataFrame()\n",
    "\n",
    "results[\"text\"] = X_test_text\n",
    "results[\"y_test\"] = Y_test\n",
    "results[\"predicted\"] = predicted\n",
    "\n",
    "results[~(results.y_test == results.predicted)]"
   ]
  },
  {
   "cell_type": "markdown",
   "metadata": {},
   "source": [
    "# Классификация без использования text-based фичей"
   ]
  },
  {
   "cell_type": "markdown",
   "metadata": {},
   "source": [
    "Фичи:\n",
    "- ~~есть ли указатели даты~~\n",
    "- ~~если ли указатели времени~~\n",
    "- ~~если ли указатель веса~~\n",
    "- сколько слов, которые уже встречались в сообщениях категории outcome\n",
    "- ~~есть ли цифры~~\n",
    "- ~~сколько цифр~~\n",
    "- ~~сколько слов~~"
   ]
  },
  {
   "cell_type": "code",
   "execution_count": 141,
   "metadata": {
    "collapsed": true
   },
   "outputs": [],
   "source": [
    "def isin(series, pattern):\n",
    "    \n",
    "    return series.str.contains(pattern).astype(int)\n",
    "\n",
    "def count_tokens(string):\n",
    "    \n",
    "    return len(word_tokenize(string))\n",
    "\n",
    "def count_num_pointers(string):\n",
    "    \n",
    "    return len([token for token in word_tokenize(string) if token == constants.NUM_POINTER])"
   ]
  },
  {
   "cell_type": "code",
   "execution_count": 162,
   "metadata": {},
   "outputs": [],
   "source": [
    "data_two = pd.DataFrame({\"message\": data[\"synonyms\"], \"category\": data[\"category\"]})"
   ]
  },
  {
   "cell_type": "code",
   "execution_count": 163,
   "metadata": {},
   "outputs": [],
   "source": [
    "data_two[\"has_num\"] = isin(data_two[\"message\"], constants.NUM_POINTER)\n",
    "data_two[\"has_datepointer\"] = isin(data_two[\"message\"], constants.DATE_POINTER)\n",
    "data_two[\"has_weightpointer\"] = isin(data_two[\"message\"], constants.WEIGHT_POINTER)\n",
    "data_two[\"has_timepointer\"] = isin(data_two[\"message\"], constants.TIME_POINTER)\n",
    "\n",
    "data_two[\"num_pointers_1\"] = data_two[\"message\"].apply(lambda x: count_num_pointers(x) == 1).astype(int)\n",
    "data_two[\"num_pointers_2\"] = data_two[\"message\"].apply(lambda x: count_num_pointers(x) == 2).astype(int)\n",
    "data_two[\"num_pointers_3_more\"] = data_two[\"message\"].apply(lambda x: count_num_pointers(x) > 2).astype(int)"
   ]
  },
  {
   "cell_type": "code",
   "execution_count": 164,
   "metadata": {
    "scrolled": false
   },
   "outputs": [],
   "source": [
    "data_two[\"count_tokens\"] = data_two[\"message\"].apply(count_tokens)\n",
    "\n",
    "for i in range(data_two.count_tokens.min(), data_two.count_tokens.max() + 1):\n",
    "    data_two[\"count_tokens_{0}\".format(i)] = (data_two[\"count_tokens\"] == i).astype(int)\n",
    "\n",
    "data_two = data_two.drop([\"count_tokens\"], axis=1)"
   ]
  },
  {
   "cell_type": "markdown",
   "metadata": {},
   "source": [
    "### CatBoost"
   ]
  },
  {
   "cell_type": "code",
   "execution_count": 212,
   "metadata": {},
   "outputs": [],
   "source": [
    "X_two = data_two.drop([\"message\", \"category\"], axis=1)\n",
    "Y_two = data_two[\"category\"]"
   ]
  },
  {
   "cell_type": "code",
   "execution_count": 213,
   "metadata": {
    "collapsed": true
   },
   "outputs": [],
   "source": [
    "X_train_two, X_test_two, Y_train_two, Y_test_two = sklearn.model_selection.train_test_split(\n",
    "    X_two, Y_two, test_size=0.3, random_state=16)"
   ]
  },
  {
   "cell_type": "code",
   "execution_count": 214,
   "metadata": {},
   "outputs": [],
   "source": [
    "le = sklearn.preprocessing.LabelEncoder()\n",
    "le = le.fit(Y_two)\n",
    "\n",
    "Y_train_two = le.transform(Y_train_two)"
   ]
  },
  {
   "cell_type": "code",
   "execution_count": 282,
   "metadata": {},
   "outputs": [
    {
     "name": "stdout",
     "output_type": "stream",
     "text": [
      "feature 11 is redundant categorical feature, skipping it\n",
      "feature 12 is redundant categorical feature, skipping it\n",
      "feature 6 is redundant categorical feature, skipping it\n",
      "0:\tlearn -0.2806056773\ttotal: 11.8ms\tremaining: 106ms\n",
      "1:\tlearn -0.2346779348\ttotal: 25.9ms\tremaining: 104ms\n",
      "2:\tlearn -0.204786185\ttotal: 36.4ms\tremaining: 84.9ms\n",
      "3:\tlearn -0.1823656592\ttotal: 46.3ms\tremaining: 69.5ms\n",
      "4:\tlearn -0.166523977\ttotal: 69.9ms\tremaining: 69.9ms\n",
      "5:\tlearn -0.1549167181\ttotal: 86.6ms\tremaining: 57.7ms\n",
      "6:\tlearn -0.1488596623\ttotal: 97ms\tremaining: 41.6ms\n",
      "7:\tlearn -0.144635182\ttotal: 104ms\tremaining: 26.1ms\n",
      "8:\tlearn -0.1393458718\ttotal: 112ms\tremaining: 12.5ms\n",
      "9:\tlearn -0.1328258752\ttotal: 120ms\tremaining: 0us\n"
     ]
    }
   ],
   "source": [
    "catboost = CatBoostClassifier(iterations=10, depth=2, learning_rate=1, loss_function='MultiClass', verbose=True)\n",
    "catboost.fit(X_train_two, Y_train_two, verbose=True, cat_features=list(range(len(X_train_two.columns))))\n",
    "\n",
    "predicted = catboost.predict(X_test_two).astype(int)"
   ]
  },
  {
   "cell_type": "code",
   "execution_count": 283,
   "metadata": {},
   "outputs": [],
   "source": [
    "predicted = le.inverse_transform(predicted)"
   ]
  },
  {
   "cell_type": "code",
   "execution_count": 284,
   "metadata": {},
   "outputs": [
    {
     "name": "stdout",
     "output_type": "stream",
     "text": [
      "Accuracy: 0.925\n",
      "\n",
      "               event     income    other     outcome   timespend weight    \n",
      "Precision:     0.667     0.0       0.0       0.93      1.0       1.0       \n",
      "Recall:        1.0       0.0       0.0       0.985     1.0       1.0       \n",
      "F1:            0.8       0.0       0.0       0.957     1.0       1.0       "
     ]
    },
    {
     "name": "stderr",
     "output_type": "stream",
     "text": [
      "/usr/local/lib/python3.6/site-packages/sklearn/metrics/classification.py:1135: UndefinedMetricWarning: Precision is ill-defined and being set to 0.0 in labels with no predicted samples.\n",
      "  'precision', 'predicted', average, warn_for)\n",
      "/usr/local/lib/python3.6/site-packages/sklearn/metrics/classification.py:1135: UndefinedMetricWarning: F-score is ill-defined and being set to 0.0 in labels with no predicted samples.\n",
      "  'precision', 'predicted', average, warn_for)\n"
     ]
    }
   ],
   "source": [
    "print_scores(Y_test_two, predicted, le.inverse_transform(catboost.classes_))"
   ]
  },
  {
   "cell_type": "markdown",
   "metadata": {},
   "source": [
    "### RandomForest"
   ]
  },
  {
   "cell_type": "code",
   "execution_count": 236,
   "metadata": {},
   "outputs": [],
   "source": [
    "rf = RandomForestClassifier(n_estimators=100)\n",
    "rf.fit(X_train_two, Y_train_two)\n",
    "predicted = rf.predict(X_test_two)"
   ]
  },
  {
   "cell_type": "code",
   "execution_count": 237,
   "metadata": {},
   "outputs": [],
   "source": [
    "predicted = le.inverse_transform(predicted)\n",
    "classes_two = le.inverse_transform(rf.classes_)"
   ]
  },
  {
   "cell_type": "code",
   "execution_count": 265,
   "metadata": {},
   "outputs": [
    {
     "name": "stdout",
     "output_type": "stream",
     "text": [
      "Accuracy: 0.925\n",
      "\n",
      "               event     income    other     outcome   timespend weight    \n",
      "Precision:     0.667     0.0       0.0       0.943     1.0       1.0       \n",
      "Recall:        1.0       0.0       0.0       0.985     1.0       1.0       \n",
      "F1:            0.8       0.0       0.0       0.964     1.0       1.0       "
     ]
    },
    {
     "name": "stderr",
     "output_type": "stream",
     "text": [
      "/usr/local/lib/python3.6/site-packages/sklearn/metrics/classification.py:1135: UndefinedMetricWarning: Precision is ill-defined and being set to 0.0 in labels with no predicted samples.\n",
      "  'precision', 'predicted', average, warn_for)\n",
      "/usr/local/lib/python3.6/site-packages/sklearn/metrics/classification.py:1135: UndefinedMetricWarning: F-score is ill-defined and being set to 0.0 in labels with no predicted samples.\n",
      "  'precision', 'predicted', average, warn_for)\n"
     ]
    }
   ],
   "source": [
    "print_scores(Y_test_two, predicted, classes_two)"
   ]
  }
 ],
 "metadata": {
  "kernelspec": {
   "display_name": "Python 3",
   "language": "python",
   "name": "python3"
  },
  "language_info": {
   "codemirror_mode": {
    "name": "ipython",
    "version": 3
   },
   "file_extension": ".py",
   "mimetype": "text/x-python",
   "name": "python",
   "nbconvert_exporter": "python",
   "pygments_lexer": "ipython3",
   "version": "3.6.2"
  }
 },
 "nbformat": 4,
 "nbformat_minor": 2
}
